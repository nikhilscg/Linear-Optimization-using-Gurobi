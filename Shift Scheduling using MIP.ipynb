{
 "cells": [
  {
   "cell_type": "code",
   "execution_count": 59,
   "metadata": {},
   "outputs": [],
   "source": [
    "import gurobipy as grb\n",
    "import pandas as pd"
   ]
  },
  {
   "cell_type": "code",
   "execution_count": 100,
   "metadata": {},
   "outputs": [],
   "source": [
    "input_file=\"data.xlsx\"\n",
    "pref=pd.read_excel(input_file, sheet_name=\"Preferences\", index_col=0)\n",
    "shifts=pd.read_excel(input_file, sheet_name=\"Shifts\", index_col=0)\n",
    "week=9"
   ]
  },
  {
   "cell_type": "code",
   "execution_count": 79,
   "metadata": {},
   "outputs": [
    {
     "data": {
      "text/html": [
       "<div>\n",
       "<style scoped>\n",
       "    .dataframe tbody tr th:only-of-type {\n",
       "        vertical-align: middle;\n",
       "    }\n",
       "\n",
       "    .dataframe tbody tr th {\n",
       "        vertical-align: top;\n",
       "    }\n",
       "\n",
       "    .dataframe thead th {\n",
       "        text-align: right;\n",
       "    }\n",
       "</style>\n",
       "<table border=\"1\" class=\"dataframe\">\n",
       "  <thead>\n",
       "    <tr style=\"text-align: right;\">\n",
       "      <th></th>\n",
       "      <th>0</th>\n",
       "      <th>1</th>\n",
       "      <th>2</th>\n",
       "      <th>3</th>\n",
       "      <th>4</th>\n",
       "      <th>5</th>\n",
       "      <th>6</th>\n",
       "      <th>7</th>\n",
       "      <th>8</th>\n",
       "      <th>9</th>\n",
       "      <th>...</th>\n",
       "      <th>179</th>\n",
       "      <th>180</th>\n",
       "      <th>181</th>\n",
       "      <th>182</th>\n",
       "      <th>183</th>\n",
       "      <th>184</th>\n",
       "      <th>185</th>\n",
       "      <th>186</th>\n",
       "      <th>187</th>\n",
       "      <th>188</th>\n",
       "    </tr>\n",
       "    <tr>\n",
       "      <th>name</th>\n",
       "      <th></th>\n",
       "      <th></th>\n",
       "      <th></th>\n",
       "      <th></th>\n",
       "      <th></th>\n",
       "      <th></th>\n",
       "      <th></th>\n",
       "      <th></th>\n",
       "      <th></th>\n",
       "      <th></th>\n",
       "      <th></th>\n",
       "      <th></th>\n",
       "      <th></th>\n",
       "      <th></th>\n",
       "      <th></th>\n",
       "      <th></th>\n",
       "      <th></th>\n",
       "      <th></th>\n",
       "      <th></th>\n",
       "      <th></th>\n",
       "      <th></th>\n",
       "    </tr>\n",
       "  </thead>\n",
       "  <tbody>\n",
       "    <tr>\n",
       "      <th>Alexis</th>\n",
       "      <td>1</td>\n",
       "      <td>1</td>\n",
       "      <td>1</td>\n",
       "      <td>1</td>\n",
       "      <td>2</td>\n",
       "      <td>1</td>\n",
       "      <td>1</td>\n",
       "      <td>0</td>\n",
       "      <td>0</td>\n",
       "      <td>0</td>\n",
       "      <td>...</td>\n",
       "      <td>2</td>\n",
       "      <td>1</td>\n",
       "      <td>2</td>\n",
       "      <td>1</td>\n",
       "      <td>2</td>\n",
       "      <td>2</td>\n",
       "      <td>1</td>\n",
       "      <td>1</td>\n",
       "      <td>1</td>\n",
       "      <td>1</td>\n",
       "    </tr>\n",
       "    <tr>\n",
       "      <th>Alyssa</th>\n",
       "      <td>2</td>\n",
       "      <td>0</td>\n",
       "      <td>2</td>\n",
       "      <td>2</td>\n",
       "      <td>2</td>\n",
       "      <td>2</td>\n",
       "      <td>0</td>\n",
       "      <td>0</td>\n",
       "      <td>2</td>\n",
       "      <td>1</td>\n",
       "      <td>...</td>\n",
       "      <td>2</td>\n",
       "      <td>1</td>\n",
       "      <td>2</td>\n",
       "      <td>2</td>\n",
       "      <td>1</td>\n",
       "      <td>2</td>\n",
       "      <td>2</td>\n",
       "      <td>2</td>\n",
       "      <td>2</td>\n",
       "      <td>1</td>\n",
       "    </tr>\n",
       "    <tr>\n",
       "      <th>Anthony</th>\n",
       "      <td>1</td>\n",
       "      <td>1</td>\n",
       "      <td>1</td>\n",
       "      <td>2</td>\n",
       "      <td>1</td>\n",
       "      <td>2</td>\n",
       "      <td>2</td>\n",
       "      <td>2</td>\n",
       "      <td>2</td>\n",
       "      <td>2</td>\n",
       "      <td>...</td>\n",
       "      <td>2</td>\n",
       "      <td>2</td>\n",
       "      <td>1</td>\n",
       "      <td>2</td>\n",
       "      <td>1</td>\n",
       "      <td>2</td>\n",
       "      <td>1</td>\n",
       "      <td>1</td>\n",
       "      <td>2</td>\n",
       "      <td>2</td>\n",
       "    </tr>\n",
       "    <tr>\n",
       "      <th>Brandon</th>\n",
       "      <td>2</td>\n",
       "      <td>1</td>\n",
       "      <td>1</td>\n",
       "      <td>1</td>\n",
       "      <td>2</td>\n",
       "      <td>2</td>\n",
       "      <td>2</td>\n",
       "      <td>2</td>\n",
       "      <td>1</td>\n",
       "      <td>2</td>\n",
       "      <td>...</td>\n",
       "      <td>2</td>\n",
       "      <td>2</td>\n",
       "      <td>2</td>\n",
       "      <td>1</td>\n",
       "      <td>1</td>\n",
       "      <td>1</td>\n",
       "      <td>1</td>\n",
       "      <td>1</td>\n",
       "      <td>1</td>\n",
       "      <td>2</td>\n",
       "    </tr>\n",
       "    <tr>\n",
       "      <th>Brianna</th>\n",
       "      <td>2</td>\n",
       "      <td>1</td>\n",
       "      <td>2</td>\n",
       "      <td>2</td>\n",
       "      <td>1</td>\n",
       "      <td>1</td>\n",
       "      <td>1</td>\n",
       "      <td>2</td>\n",
       "      <td>2</td>\n",
       "      <td>1</td>\n",
       "      <td>...</td>\n",
       "      <td>2</td>\n",
       "      <td>1</td>\n",
       "      <td>1</td>\n",
       "      <td>1</td>\n",
       "      <td>1</td>\n",
       "      <td>1</td>\n",
       "      <td>2</td>\n",
       "      <td>1</td>\n",
       "      <td>1</td>\n",
       "      <td>2</td>\n",
       "    </tr>\n",
       "  </tbody>\n",
       "</table>\n",
       "<p>5 rows × 189 columns</p>\n",
       "</div>"
      ],
      "text/plain": [
       "         0    1    2    3    4    5    6    7    8    9   ...   179  180  181  \\\n",
       "name                                                      ...                   \n",
       "Alexis     1    1    1    1    2    1    1    0    0    0 ...     2    1    2   \n",
       "Alyssa     2    0    2    2    2    2    0    0    2    1 ...     2    1    2   \n",
       "Anthony    1    1    1    2    1    2    2    2    2    2 ...     2    2    1   \n",
       "Brandon    2    1    1    1    2    2    2    2    1    2 ...     2    2    2   \n",
       "Brianna    2    1    2    2    1    1    1    2    2    1 ...     2    1    1   \n",
       "\n",
       "         182  183  184  185  186  187  188  \n",
       "name                                        \n",
       "Alexis     1    2    2    1    1    1    1  \n",
       "Alyssa     2    1    2    2    2    2    1  \n",
       "Anthony    2    1    2    1    1    2    2  \n",
       "Brandon    1    1    1    1    1    1    2  \n",
       "Brianna    1    1    1    2    1    1    2  \n",
       "\n",
       "[5 rows x 189 columns]"
      ]
     },
     "execution_count": 79,
     "metadata": {},
     "output_type": "execute_result"
    }
   ],
   "source": [
    "pref.head()"
   ]
  },
  {
   "cell_type": "code",
   "execution_count": 81,
   "metadata": {},
   "outputs": [
    {
     "data": {
      "text/html": [
       "<div>\n",
       "<style scoped>\n",
       "    .dataframe tbody tr th:only-of-type {\n",
       "        vertical-align: middle;\n",
       "    }\n",
       "\n",
       "    .dataframe tbody tr th {\n",
       "        vertical-align: top;\n",
       "    }\n",
       "\n",
       "    .dataframe thead th {\n",
       "        text-align: right;\n",
       "    }\n",
       "</style>\n",
       "<table border=\"1\" class=\"dataframe\">\n",
       "  <thead>\n",
       "    <tr style=\"text-align: right;\">\n",
       "      <th></th>\n",
       "      <th>day</th>\n",
       "      <th>time</th>\n",
       "      <th>persons</th>\n",
       "    </tr>\n",
       "    <tr>\n",
       "      <th>shift_id</th>\n",
       "      <th></th>\n",
       "      <th></th>\n",
       "      <th></th>\n",
       "    </tr>\n",
       "  </thead>\n",
       "  <tbody>\n",
       "    <tr>\n",
       "      <th>0</th>\n",
       "      <td>2018-04-01</td>\n",
       "      <td>Morning</td>\n",
       "      <td>15</td>\n",
       "    </tr>\n",
       "    <tr>\n",
       "      <th>1</th>\n",
       "      <td>2018-04-01</td>\n",
       "      <td>Evening</td>\n",
       "      <td>15</td>\n",
       "    </tr>\n",
       "    <tr>\n",
       "      <th>2</th>\n",
       "      <td>2018-04-01</td>\n",
       "      <td>Night</td>\n",
       "      <td>5</td>\n",
       "    </tr>\n",
       "    <tr>\n",
       "      <th>3</th>\n",
       "      <td>2018-04-02</td>\n",
       "      <td>Morning</td>\n",
       "      <td>15</td>\n",
       "    </tr>\n",
       "    <tr>\n",
       "      <th>4</th>\n",
       "      <td>2018-04-02</td>\n",
       "      <td>Evening</td>\n",
       "      <td>15</td>\n",
       "    </tr>\n",
       "  </tbody>\n",
       "</table>\n",
       "</div>"
      ],
      "text/plain": [
       "                day     time  persons\n",
       "shift_id                             \n",
       "0        2018-04-01  Morning       15\n",
       "1        2018-04-01  Evening       15\n",
       "2        2018-04-01    Night        5\n",
       "3        2018-04-02  Morning       15\n",
       "4        2018-04-02  Evening       15"
      ]
     },
     "execution_count": 81,
     "metadata": {},
     "output_type": "execute_result"
    }
   ],
   "source": [
    "shifts.head()"
   ]
  },
  {
   "cell_type": "code",
   "execution_count": 101,
   "metadata": {},
   "outputs": [],
   "source": [
    "name=pref.index\n",
    "shift=shifts.index"
   ]
  },
  {
   "cell_type": "code",
   "execution_count": 38,
   "metadata": {},
   "outputs": [],
   "source": []
  },
  {
   "cell_type": "code",
   "execution_count": 102,
   "metadata": {},
   "outputs": [],
   "source": [
    "day=pd.Series(shifts.iloc[:,0], index=shift)\n",
    "time=pd.Series(shifts.iloc[:, 1], index=shift)"
   ]
  },
  {
   "cell_type": "code",
   "execution_count": 103,
   "metadata": {},
   "outputs": [],
   "source": [
    "mod=grb.Model()"
   ]
  },
  {
   "cell_type": "code",
   "execution_count": 104,
   "metadata": {},
   "outputs": [],
   "source": [
    "x={}\n",
    "for i in name:\n",
    "    for j in shift:\n",
    "        x[i,j]=mod.addVar(vtype=grb.GRB.BINARY, name=\"x[{0},{1}]\".format(i, j))\n"
   ]
  },
  {
   "cell_type": "code",
   "execution_count": 105,
   "metadata": {},
   "outputs": [],
   "source": [
    "U_s=mod.addVar(vtype=grb.GRB.INTEGER, name=\"max number of shifts\")\n",
    "L_s=mod.addVar(vtype=grb.GRB.INTEGER, name=\"min number of shifts\")\n",
    "U_n=mod.addVar(vtype=grb.GRB.INTEGER, name=\"max number of night shifts\")\n",
    "L_n=mod.addVar(vtype=grb.GRB.INTEGER, name=\"min number of night shifts\")"
   ]
  },
  {
   "cell_type": "code",
   "execution_count": 106,
   "metadata": {},
   "outputs": [],
   "source": [
    "###Set objective\n",
    "mod.setObjective(sum(x[i,j]*pref.loc[i, j] for i in name for j in shift)-100*(U_s-L_s)-100*(U_n-L_s), sense=grb.GRB.MAXIMIZE)"
   ]
  },
  {
   "cell_type": "code",
   "execution_count": 107,
   "metadata": {},
   "outputs": [],
   "source": [
    "####lower bound and upper bound constraints\n",
    "num_shifts_u={}\n",
    "num_shifts_l={}\n",
    "\n",
    "for i in name:\n",
    "    num_shifts_u[i]=mod.addConstr(U_s>=sum(x[i, j]for j in shift))\n",
    "    num_shifts_l[i]=mod.addConstr(L_s<=sum(x[i, j]for j in shift))"
   ]
  },
  {
   "cell_type": "code",
   "execution_count": 108,
   "metadata": {},
   "outputs": [],
   "source": [
    "num_nights_u={}\n",
    "num_nights_l={}\n",
    "for i in name:\n",
    "    num_nights_u[i]=mod.addConstr(U_s>=sum(x[i, j]for j in shift[time==\"Night\"]))\n",
    "    num_nights_l[i]=mod.addConstr(L_s<=sum(x[i, j]for j in shift[time==\"Night\"]))"
   ]
  },
  {
   "cell_type": "code",
   "execution_count": 109,
   "metadata": {},
   "outputs": [],
   "source": [
    "\n",
    "nights_constr={}\n",
    "for j in shift[time==\"Night\"]:\n",
    "    nights_constr[j]=mod.addConstr(sum(x[i,j] for i in name)==5)\n",
    "\n",
    "morn_eve_constr={}\n",
    "for j in shift[(time==\"Morning\") | (time ==\"Evening\")]:\n",
    "    morn_eve_constr[j]=mod.addConstr(sum(x[i,j] for i in name)==15)\n"
   ]
  },
  {
   "cell_type": "code",
   "execution_count": 110,
   "metadata": {},
   "outputs": [],
   "source": [
    "weeks=range(week)\n",
    "week_constr={}\n",
    "\n",
    "for i in name:\n",
    "    for w in weeks:\n",
    "            week_constr[i,w]=mod.addConstr(sum(x[i,j] for j in range(w*21,w*21+21))<=6)"
   ]
  },
  {
   "cell_type": "code",
   "execution_count": 116,
   "metadata": {},
   "outputs": [],
   "source": [
    "###no nurse may be scheduled to consecutive shifts\n",
    "consect_constrs={}\n",
    "\n",
    "for i in name:\n",
    "    for j in shift:\n",
    "        if j<week*21-1:\n",
    "            consect_constrs[i,j]=mod.addConstr(x[i,j]+x[i,(j+1)]<=1)\n",
    "        "
   ]
  },
  {
   "cell_type": "code",
   "execution_count": 123,
   "metadata": {},
   "outputs": [],
   "source": [
    "### in a night shift, \n",
    "###he/she cannot be assigned to a morning/evening shift either the day before or the day after the night shift. \n",
    "\n",
    "nights_bef={}\n",
    "for i in name:\n",
    "    for j in shift[time==\"Night\"]:\n",
    "        if j>=2:\n",
    "            nights_bef[i,j]=mod.addConstr(x[i,j]+x[i,j-2]<=1)\n",
    "\n",
    "nights_after={}\n",
    "for i in name:\n",
    "    for j in shift[time==\"Night\"]:\n",
    "        if j<week*21-1:\n",
    "            nights_bef[i,j]=mod.addConstr(x[i,j]+x[i,j+2]<=1)"
   ]
  },
  {
   "cell_type": "code",
   "execution_count": 124,
   "metadata": {},
   "outputs": [],
   "source": [
    "###if preference=0, x[i,j]=0\n",
    "zero_constr={}\n",
    "for i in name:\n",
    "    for j in shift:\n",
    "        if pref.loc[i, j]==0:\n",
    "            zero_constr[i,j]=mod.addConstr(x[i,j]==0)"
   ]
  },
  {
   "cell_type": "code",
   "execution_count": 125,
   "metadata": {},
   "outputs": [
    {
     "name": "stdout",
     "output_type": "stream",
     "text": [
      "Optimize a model with 40373 rows, 9454 columns and 121874 nonzeros\n",
      "Variable types: 0 continuous, 9454 integer (9450 binary)\n",
      "Coefficient statistics:\n",
      "  Matrix range     [1e+00, 1e+00]\n",
      "  Objective range  [1e+00, 2e+02]\n",
      "  Bounds range     [1e+00, 1e+00]\n",
      "  RHS range        [1e+00, 2e+01]\n",
      "Presolve removed 34554 rows and 1496 columns\n",
      "Presolve time: 0.22s\n",
      "Presolved: 5819 rows, 7958 columns, 48041 nonzeros\n",
      "Variable types: 0 continuous, 7958 integer (7956 binary)\n",
      "\n",
      "Root relaxation: objective 1.166650e+03, 6946 iterations, 1.06 seconds\n",
      "\n",
      "    Nodes    |    Current Node    |     Objective Bounds      |     Work\n",
      " Expl Unexpl |  Obj  Depth IntInf | Incumbent    BestBd   Gap | It/Node Time\n",
      "\n",
      "     0     0 1166.65000    0  226          - 1166.65000      -     -    4s\n",
      "H    0     0                    1017.0000000 1166.65000  14.7%     -    4s\n",
      "*    0     0               0    1018.0000000 1018.00000  0.00%     -    5s\n",
      "\n",
      "Cutting planes:\n",
      "  Zero half: 13\n",
      "\n",
      "Explored 1 nodes (18778 simplex iterations) in 5.10 seconds\n",
      "Thread count was 4 (of 4 available processors)\n",
      "\n",
      "Solution count 2: 1018 1017 \n",
      "\n",
      "Optimal solution found (tolerance 1.00e-04)\n",
      "Best objective 1.018000000000e+03, best bound 1.018000000000e+03, gap 0.0000%\n"
     ]
    }
   ],
   "source": [
    "mod.optimize()"
   ]
  },
  {
   "cell_type": "code",
   "execution_count": 153,
   "metadata": {},
   "outputs": [],
   "source": [
    "table=[]   \n",
    "for i in name:\n",
    "    s=[]\n",
    "    for j in shift:\n",
    "        if(x[i,j].x==1):\n",
    "            s.append(1)\n",
    "        else: s.append(\"\")\n",
    "    table.append(s)"
   ]
  },
  {
   "cell_type": "code",
   "execution_count": 154,
   "metadata": {},
   "outputs": [],
   "source": [
    "df=pd.DataFrame(table, index=name, columns=shift)\n"
   ]
  },
  {
   "cell_type": "code",
   "execution_count": 155,
   "metadata": {},
   "outputs": [],
   "source": [
    "df.to_excel(\"schedule.xlsx\")"
   ]
  },
  {
   "cell_type": "code",
   "execution_count": null,
   "metadata": {},
   "outputs": [],
   "source": []
  }
 ],
 "metadata": {
  "kernelspec": {
   "display_name": "Python 2",
   "language": "python",
   "name": "python2"
  },
  "language_info": {
   "codemirror_mode": {
    "name": "ipython",
    "version": 2
   },
   "file_extension": ".py",
   "mimetype": "text/x-python",
   "name": "python",
   "nbconvert_exporter": "python",
   "pygments_lexer": "ipython2",
   "version": "2.7.14"
  }
 },
 "nbformat": 4,
 "nbformat_minor": 2
}
