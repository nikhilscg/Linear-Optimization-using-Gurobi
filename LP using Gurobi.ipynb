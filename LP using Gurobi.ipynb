{
 "cells": [
  {
   "cell_type": "markdown",
   "metadata": {},
   "source": [
    "# Homework 6 (Due Tue. 3/20 before class)\n",
    "\n",
    "**Name:**\n",
    "\n",
    "**Learning Objectives Assessed:**\n",
    "\n",
    "- Formulating linear programs (LP) to model an optimization problem. (Model)\n",
    "- Solving LPs of two variables manually by graphing. (Analyze)\n",
    "- Solving LPs using Gurobi in Python. (Code)\n",
    "- Interpreting shadow price information. (Analyze)\n",
    "- Communicate LP formulations using LaTex. (Communicate)\n",
    "\n",
    "**For this homework, you must add your response to this Jupyter notebook and submit it.**\n",
    "\n",
    "## Instructions for typesetting LP formulations in Markdown cells\n",
    "In questions 1,3,4,5, you are asked to \"formulate a LP.\" This means to define your decision variables, then write the objective function and constraints. An example of a LP formulation is given below (this is the LP from the class on Thursday 3/1).\n",
    "\n",
    "Let decision variables $X$ and $Y$ denote the amount of product X and product Y to use respective. The linear program is\n",
    "$$\\begin{aligned}\n",
    "\\text{maximize} && 20X+10Y \\\\\n",
    "\\text{subject to:} \\\\\n",
    "\\text{Material 1:} && 4X+Y & \\le 60 \\\\\n",
    "\\text{Material 2:} && 2Y & \\le 48 \\\\\n",
    "\\text{Labor:} && X+Y & \\le 30 \\\\\n",
    "\\text{Non-negativity} && X,Y & \\ge 0\n",
    "\\end{aligned}$$\n",
    "\n",
    "Notice that the variables $X$ and $Y$ are in a special font denoting mathematical variables. Moreover, notice that the linear program above is centered and aligned, both at the colons and at the signs ($\\le$ and $\\ge$). It is useful to learn to do such formating in Markdown in order to better communicate your LP formulations to others.\n",
    "\n",
    "Double click this Markdown cell to see the code that created the math. Then execute the cell again to render it."
   ]
  },
  {
   "cell_type": "markdown",
   "metadata": {},
   "source": [
    "As you can see, to render a mathematical expression nicely, we enclose it using dollar signs. So the expression X>0, becomes $X>0$. A single dollar sign is for mathematical expressions inline, and double dollar signs are for a standalone mathematical expressions in its own line (See code by double clicking this cell). $$X>=0$$\n",
    "\n",
    "To make the linear program aligned, we not only use the double dollar signs, but also use the `\\begin{aligned} \\end{aligned}` commands. (Double click the linear program above to see the code.) Within the alignment block:\n",
    "\n",
    "- `\\text{ }` is for displaying the enclosed string as plain text, without the mathematical rendering.\n",
    "- `&` is for alignment. The convention is right align before the first `&`, then left align between the first and second `&` of each line, then right align again between the second and third `&` and so on. Hence, to make it right aligned both before and after the colon, we use a double `&&` after the `\\text{}`. If this is confusing, you can simply copy this convention for this homework (`&&` after the explanation of constraint, and `&` before the sign). \n",
    "- `\\\\` is for creating a new line. Notice that we end the line early using `\\\\` for \"subject to\" and \"maximize\".\n",
    "- `\\le` (less than or equal to) is for $\\le$, and `\\ge` (greater than or equal to) is for $\\ge$. This looks better than $<=$ and $>=$.\n",
    "\n",
    "This notation is called LaTex, and is the standard for people in technical fields to display math. Make sure that you close any braces you begin and put the alignment characters `&` and newlines `\\\\` at the right places, or the math may not render. You can see another example in the prompt to Q2 (double click the prompt of Q2 to see the LaTex code)."
   ]
  },
  {
   "cell_type": "markdown",
   "metadata": {},
   "source": [
    "## Q1 (Solving a LP manually by graphing)\n",
    "\n",
    "Solve DMD Exercise 7.2. The question begins with \"The Magnetron Company manufactures and markets microwave ovens.\" For part a), you should type your formulation into a Markdown cell following the typesetting instructions above. For parts b) and c), you should plot by hand on a scrap piece of paper, and type the answer in a Markdown cell. **You do not have to submit your hand drawing**, but you need to learn to do this for a quiz or an exam. "
   ]
  },
  {
   "cell_type": "markdown",
   "metadata": {},
   "source": [
    "Let decision variables $F$ and $C$ be the number of Full Size and Compact Ovens manufactured by Magnetron Company. The LP formulation is given as below:\n",
    "$$\\begin{aligned}\n",
    "\\text{maximize} && 120F+130C \\\\\n",
    "\\text{subject to:} \\\\\n",
    "\\text{General Assemby Hours:} && 2F+1C & \\le 500 \\\\\n",
    "\\text{Electronic Assembly Hours:} && 2F+3C & \\le 800 \\\\\n",
    "\\text{Demand for Full Size Ovens:} && F & \\le 220 \\\\\n",
    "\\text{Demand for Compact Ovens:} && C & \\le 180 \\\\\n",
    "\\text{Non-Negativity:} && F,C & \\ge 0\n",
    "\\end{aligned}$$"
   ]
  },
  {
   "cell_type": "markdown",
   "metadata": {},
   "source": [
    "## The optimal solution is provided below:\n",
    "$$\\begin{aligned}\n",
    "\\text{Full Size Ovens:} && 175\\\\\n",
    "\\text{Compact Ovens:} && 150\\\\\n",
    "\\text{Optimal Profit:} && 40500\n",
    "\\end{aligned}$$"
   ]
  },
  {
   "cell_type": "markdown",
   "metadata": {},
   "source": [
    "## Q2 (Solving a LP using Gurobi)\n",
    "\n",
    "**a)** Solve the LP for the NBS supply problem (DMD section 7.1) using Gurobi. Print the optimal solution, as well as the shadow price of each constraint. For your convenience, the LP formulation is reproduced below. \n",
    "\n",
    "Let decision variables $A$, $B$, $C$, $D$, $E$, $F$, $G$, and $H$ correspond to the amount of coal to be contracted from Ashley, Bedford, Consol, Dunby, Earlam, Florence, Gaston and Hopt respectively (in mtons).\n",
    "\n",
    "$$\\begin{aligned}\n",
    " \\text{minimize} && 49.5A+50B+61C+63.5D+66.5E+71F+72.5G+80H \\\\\n",
    " \\text{subject to:} && \\\\\n",
    " \\text{Supply:} && A+B+C+D+E+F+G+H & = 1225 \\\\\n",
    " \\text{Union:} && A+B-C+D-E+F-G-H & \\ge 0 \\\\\n",
    " \\text{Truck:}&& B+D+E+F & \\le 720 \\\\\n",
    " \\text{Rail:}&& A+C+G+H & \\le 650 \\\\\n",
    " \\text{Volatility:} && -4A-3B-C+D+2E+3F+4G+6H & \\ge 0 \\\\\n",
    " \\text{Acap:}&& A &\\le 300 \\\\\n",
    "\\text{Bcap:}&& B &\\le 600 \\\\\n",
    "\\text{Ccap:}&& C &\\le 510 \\\\\n",
    "\\text{Dcap:}&& D &\\le 655 \\\\\n",
    "\\text{Ecap:}&& E &\\le 575 \\\\\n",
    "\\text{Fcap:}&& F &\\le 680 \\\\\n",
    "\\text{Gcap:}&& G &\\le 450 \\\\\n",
    "\\text{Hcap:}&& H &\\le 490 \\\\\n",
    "\\text{Non-negativity:} && A,B,C,D,E,F,G,H & \\ge 0\n",
    "\\end{aligned}$$\n"
   ]
  },
  {
   "cell_type": "code",
   "execution_count": 49,
   "metadata": {},
   "outputs": [
    {
     "name": "stdout",
     "output_type": "stream",
     "text": [
      "Optimal Objective: 73267.50\n",
      "Optimal Solution:\n",
      "\tA = 55.0\n",
      "\tB = 600.0\n",
      "\tC = 0.0\n",
      "\tD = 20.0\n",
      "\tE = 100.0\n",
      "\tF = 0.0\n",
      "\tG = 450.0\n",
      "\tH = 0.0\n",
      "Shadow Prices:\n",
      "\tSupply Constraint: 61.50\n",
      "\tUnion Constraint: 0.00\n",
      "\tTruck Capacity Constraint: -1.00\n",
      "\tRail Capacity Constraint: 0.00\n",
      "\tVolatility Constraint: 3.00\n",
      "\tAcap: 0.00\n",
      "\tBcap: -1.50\n",
      "\tCcap: 0.00\n",
      "\tDcap: 0.00\n",
      "\tEcap: 0.00\n",
      "\tFcap: 0.00\n",
      "\tGcap: -1.00\n",
      "\tHcap: 0.00\n"
     ]
    }
   ],
   "source": [
    "import gurobipy as grb\n",
    "mod = grb.Model()\n",
    "A = mod.addVar(lb=0)\n",
    "B = mod.addVar(lb=0)\n",
    "C = mod.addVar(lb=0)\n",
    "D = mod.addVar(lb=0)\n",
    "E = mod.addVar(lb=0)\n",
    "F = mod.addVar(lb=0)\n",
    "G = mod.addVar(lb=0)\n",
    "H = mod.addVar(lb=0)\n",
    "\n",
    "mod.setObjective(49.5*A+50*B+61*C+63.5*D+66.5*E+71*F+72.5*G+80*H,sense = grb.GRB.MINIMIZE)\n",
    "s = mod.addConstr(A+B+C+D+E+F+G+H >= 1225) ##need to ask professor\n",
    "u = mod.addConstr(A+B-C+D-E+F-G-H>=0)\n",
    "t = mod.addConstr(B+D+E+F<=720)\n",
    "r = mod.addConstr(A+C+G+H<=650)\n",
    "v = mod.addConstr(-4*A-3*B-C+D+2*E+3*F+4*G+6*H>=0)\n",
    "acap = mod.addConstr(A<=300)\n",
    "bcap = mod.addConstr(B<=600)\n",
    "ccap = mod.addConstr(C<=510)\n",
    "dcap = mod.addConstr(D<=655)\n",
    "ecap = mod.addConstr(E<=575)\n",
    "fcap = mod.addConstr(F<=680)\n",
    "gcap = mod.addConstr(G<=450)\n",
    "hcap = mod.addConstr(H<=490)\n",
    "##do not print anything when calling mod.optimize()\n",
    "mod.setParam('OutputFlag',False)\n",
    "mod.optimize()\n",
    "print('Optimal Objective: {0:.2f}'.format(mod.ObjVal))\n",
    "print('Optimal Solution:')\n",
    "print('\\tA = {0:.1f}'.format(A.x))\n",
    "print('\\tB = {0:.1f}'.format(B.x))\n",
    "print('\\tC = {0:.1f}'.format(C.x))\n",
    "print('\\tD = {0:.1f}'.format(D.x))\n",
    "print('\\tE = {0:.1f}'.format(E.x))\n",
    "print('\\tF = {0:.1f}'.format(F.x))\n",
    "print('\\tG = {0:.1f}'.format(G.x))\n",
    "print('\\tH = {0:.1f}'.format(H.x))\n",
    "print('Shadow Prices:')\n",
    "print('\\tSupply Constraint: {0:.2f}'.format(s.PI))\n",
    "print('\\tUnion Constraint: {0:.2f}'.format(u.PI))\n",
    "print('\\tTruck Capacity Constraint: {0:.2f}'.format(t.PI))\n",
    "print('\\tRail Capacity Constraint: {0:.2f}'.format(r.PI))\n",
    "print('\\tVolatility Constraint: {0:.2f}'.format(v.PI))\n",
    "print('\\tAcap: {0:.2f}'.format(acap.PI))\n",
    "print('\\tBcap: {0:.2f}'.format(bcap.PI))\n",
    "print('\\tCcap: {0:.2f}'.format(ccap.PI))\n",
    "print('\\tDcap: {0:.2f}'.format(dcap.PI))\n",
    "print('\\tEcap: {0:.2f}'.format(ecap.PI))\n",
    "print('\\tFcap: {0:.2f}'.format(fcap.PI))\n",
    "print('\\tGcap: {0:.2f}'.format(gcap.PI))\n",
    "print('\\tHcap: {0:.2f}'.format(hcap.PI))"
   ]
  },
  {
   "cell_type": "markdown",
   "metadata": {},
   "source": [
    "## The supply constraint has a shadow price of 61.50 which implies that if New Bedford decides to source extra coking coal then the maximum cost of such coking coal that the company should be willing to pay is dollars 61.5/mton\n",
    "## Union constraint has a shadow price of 0 which implies that sourcing more coal from union mines would not result in any change in the optimal cost of procurement\n",
    "## Truck capacity constraint has a shadow price of -1.00 which implies that increasing the truck transport capacity by 1 mton shall reduce the optimal cost of procurement by dollars 1 per mton of truck capacity increase\n",
    "## Rail capacity constraint has a shadow price of 0 which implies that increasing the capacity of rail transport shall not result in any change in the optimal cost of procurement\n",
    "## Capacity contraint of Ashley has a shadow price of 0 which implies that increasing the capacity at Ashley shall not result in any change in the optimal cost of procurement. In other words, Ashley capacity is not a binding constraint. Similarly, capacities at Consol, Dunby, Earlam, Florence and Hopt are not binding contraints\n",
    "## Capacity at Bedford mining has a shadow price of -1.50 which implies that increasing the capacity at Bedford shall result in reduction of dollars 1.50 per mton of capacity increase in the optimal cost of procurement\n",
    "## Similarly, for Gaston, every 1 mton increase in mining capacity at Gaston shall result in reduction of  dollars 1 in the optimal cost of procurement"
   ]
  },
  {
   "cell_type": "code",
   "execution_count": 61,
   "metadata": {},
   "outputs": [
    {
     "name": "stdout",
     "output_type": "stream",
     "text": [
      "Optimal solution\n",
      "\tA=55.0\n",
      "\tB=600.0\n",
      "\tC=0.0\n",
      "\tD=20.0\n",
      "\tE=100.0\n",
      "\tF=0.0\n",
      "\tG=450.0\n",
      "\tH=0.0\n",
      "\n",
      "Shadow prices\n",
      "\tSupply constraint: 61.5\n",
      "\tUnion constraint: 0.0\n",
      "\tTruck constraint: -1.0\n",
      "\tRail constraint: 0.0\n",
      "\tVolatility constraint: 3.0\n",
      "\tAcap: 0.0\n",
      "\tBcap: -1.5\n",
      "\tCcap: 0.0\n",
      "\tDcap: 0.0\n",
      "\tEcap: 0.0\n",
      "\tFcap: 0.0\n",
      "\tGcap: -1.0\n",
      "\tHcap: 0.0\n"
     ]
    }
   ],
   "source": [
    "# Example output (using print statements after solving the model)"
   ]
  },
  {
   "cell_type": "markdown",
   "metadata": {},
   "source": [
    "**b)** For each of the constraints except for the volatility constraint, write 1-2 sentence describing what insights can be obtained from the shadow price. You may check your answers using DMD section 7.5.4, but please write the sentence in your own words. For the capacity constraints with zero shadow cost (Acap, Ccap, Dcap, Ecap, Fcap, Hcap), you only need to describe for one constraint, and say that the others are like it.\n",
    "\n",
    "Example sentence: The shadow price of the union constraint is zero, which means that the union is not a bottleneck in this scenario. (In other words, NBS Corporation would not be able to benefit from the union relaxing its requirement on coal contracts, by allowing for slightly more coal to be contracted from non-union suppliers than from union suppliers.)"
   ]
  },
  {
   "cell_type": "markdown",
   "metadata": {},
   "source": [
    "## Q3 (Production Planning)\n",
    "\n",
    "Solve DMD Exercise 7.8. The question begins with \"Nature's best Frozen Foods company produces four different mixes of frozen ready-to-eat vegetables. \n",
    "\n",
    "For part a), you should formulate the linear program following the instructions at the top of this homework (define the decision variables then write the LP nicely in a Markdown cell using LaTex)."
   ]
  },
  {
   "cell_type": "markdown",
   "metadata": {},
   "source": [
    "## DMD 7.8 Let decision variables S,B,M,V denote the total packets of Stir Fry, Barbeque, Hearty Mushrooms and Veggie Crunch packets to be produced by Nature's Best Frozen Foods respectively. The LP formulation is given as below:\n",
    "$$\\begin{aligned}\n",
    "\\text{maximize} && 0.22S+0.20B+0.18M+0.18V \\\\\n",
    "\\text{subject to:} \\\\\n",
    "\\text{Carrot Constraint:} && 2.5S+2B+2.5V & \\le 150000 \\\\\n",
    "\\text{Mushrooms Constraint:} && 3S+4V & \\le 80000 \\\\\n",
    "\\text{Green Peppers Constraint:} && 2.5S+2B+3M+2.5V & \\le 135000 \\\\\n",
    "\\text{Brocolli Consraint:} && 2S+3B+3M+2.5V & \\le 140000 \\\\\n",
    "\\text{Corn Consraint:} && 3B+2.5V & \\le 150000 \\\\\n",
    "\\text{Non-Negativity:} && S,B,M,V & \\ge 0\n",
    "\\end{aligned}$$"
   ]
  },
  {
   "cell_type": "code",
   "execution_count": 96,
   "metadata": {},
   "outputs": [
    {
     "name": "stdout",
     "output_type": "stream",
     "text": [
      "Optimal Objective Value:11644.44\n",
      "Optimal Solution:\n",
      "\tStir Fry:26667\n",
      "\tBarbeque:28889\n",
      "\tHearty Mushroom:0.0\n",
      "\tVeggie Crunch:0.0\n",
      "Shadow Price for Carrots: 0.00\n",
      "Shadow Price for Mushrooms: 0.03\n",
      "Shadow Price for Green Peppers: 0.00\n",
      "Shadow Price for Brocolli: 0.07\n",
      "Shadow Price for Corn: 0.00\n"
     ]
    }
   ],
   "source": [
    "mod = grb.Model()\n",
    "S = mod.addVar(lb=0)\n",
    "B = mod.addVar(lb=0)\n",
    "M = mod.addVar(lb=0)\n",
    "V = mod.addVar(lb=0)\n",
    "\n",
    "mod.setObjective(0.22*S+0.20*B+0.18*M+0.18*V,sense = grb.GRB.MAXIMIZE)\n",
    "\n",
    "CA = mod.addConstr(2.5*S+2*B+2.5*V<=150000)\n",
    "MU = mod.addConstr(3*S+4*V<=80000)\n",
    "GP = mod.addConstr(2.5*S+2*B+3*M+2.5*V<=135000)\n",
    "BR = mod.addConstr(2*S+3*B+3*M+2.5*V<=140000)\n",
    "CO = mod.addConstr(3*B+2.5*V<=150000)\n",
    "\n",
    "mod.setParam('OutputFlag',False)\n",
    "mod.optimize()\n",
    "\n",
    "print('Optimal Objective Value:{0:.2f}'.format(mod.ObjVal))\n",
    "print('Optimal Solution:')\n",
    "print('\\tStir Fry:{0:.0f}'.format(S.x))\n",
    "print('\\tBarbeque:{0:.0f}'.format(B.x))\n",
    "print('\\tHearty Mushroom:{0:.1f}'.format(M.x))\n",
    "print('\\tVeggie Crunch:{0:.1f}'.format(V.x))\n",
    "print('Shadow Price for Carrots: {0:.2f}'.format(CA.PI))\n",
    "print('Shadow Price for Mushrooms: {0:.2f}'.format(MU.PI))\n",
    "print('Shadow Price for Green Peppers: {0:.2f}'.format(GP.PI))\n",
    "print('Shadow Price for Brocolli: {0:.2f}'.format(BR.PI))\n",
    "print('Shadow Price for Corn: {0:.2f}'.format(CO.PI))"
   ]
  },
  {
   "cell_type": "markdown",
   "metadata": {},
   "source": [
    "## c) As may be seen from above the shadow price of Green Pepper contraint is 0 which implies that increasing the supply for Green Pepper will not affect the optimal solution and thus we shouldnt increase the supply for Green Peppers. However, we can increase the supply for Mushrooms and Brocolli which shall result in increase in the profit by dollar 0.03 and 0.07 per oz. increase in supply respectively."
   ]
  },
  {
   "cell_type": "markdown",
   "metadata": {},
   "source": [
    "## Q4 (Formulating Constraints)\n",
    "\n",
    "Solve DMD Exercise 7.12. Before solving using Gurobi, you should formulate the linear program by defining the decision variables and write the objective and constraints nicely using LaTex.\n"
   ]
  },
  {
   "cell_type": "markdown",
   "metadata": {},
   "source": [
    "## 7.12 Let decision variables A, B, C, D and E denote the fraction of total investment, invested in Adams, Barney, Chilton, Dunster and Excelsior respectively. The LP formulation is given as below:\n",
    "$$\\begin{aligned}\n",
    "\\text{maximize} && 4.5A+5.62B+6.8C+10.15D+20.60E \\\\\n",
    "\\text{subject to:} \\\\\n",
    "\\text{Total Investment Constraint:} && A+B+C+D+E & \\le 1.00 \\\\\n",
    "\\text{Money Market Constraint:} && A+B & \\le 0.3 \\\\\n",
    "\\text{Aggressive Growth Fund Constraint:} && E & \\le 0.2 \\\\\n",
    "\\text{Average Risk Consraint:} && A+2B+2C+3D+5E & \\le 2.5 \\\\\n",
    "\\text{Non-Negativity:} && A,B,C,D,E & \\ge 0\n",
    "\\end{aligned}$$"
   ]
  },
  {
   "cell_type": "code",
   "execution_count": 94,
   "metadata": {},
   "outputs": [
    {
     "name": "stdout",
     "output_type": "stream",
     "text": [
      "Optimal Objective Value:9.54\n",
      "Optimal Solution:\n",
      "\tAdams:0.300\n",
      "\tBarney:0.000\n",
      "\tChilton:0.300\n",
      "\tDunster:0.200\n",
      "\tExcelsior:0.200\n",
      "Shadow Price for Money Market Funds: 1.05\n",
      "Shadow Price for Aggressive Growth Fund: 3.75\n",
      "Shadow Price for Average Risk: 3.35\n"
     ]
    }
   ],
   "source": [
    "mod = grb.Model()\n",
    "A = mod.addVar(lb=0)\n",
    "B = mod.addVar(lb=0)\n",
    "C = mod.addVar(lb=0)\n",
    "D = mod.addVar(lb=0)\n",
    "E = mod.addVar(lb=0)\n",
    "\n",
    "#mod.setObjective(0.045*A+0.0562*B+0.068*C+0.1015*D+0.2060*E,sense = grb.GRB.MAXIMIZE)\n",
    "mod.setObjective(4.5*A+5.62*B+6.8*C+10.15*D+20.60*E,sense = grb.GRB.MAXIMIZE)\n",
    "#total contraint\n",
    "mod.addConstr(A+B+C+D+E<=1)\n",
    "\n",
    "MA = mod.addConstr(A+B<=0.30)\n",
    "GF = mod.addConstr(E<=0.20)\n",
    "RI = mod.addConstr(A+2*B+2*C+3*D+5*E<=2.50)\n",
    "\n",
    "\n",
    "mod.setParam('OutputFlag',False)\n",
    "mod.optimize()\n",
    "\n",
    "print('Optimal Objective Value:{0:.2f}%'.format(mod.ObjVal))\n",
    "print('Optimal Solution:')\n",
    "print('\\tAdams:{0:.3f}'.format(A.x))\n",
    "print('\\tBarney:{0:.3f}'.format(B.x))\n",
    "print('\\tChilton:{0:.3f}'.format(C.x))\n",
    "print('\\tDunster:{0:.3f}'.format(D.x))\n",
    "print('\\tExcelsior:{0:.3f}'.format(E.x))\n",
    "print('Shadow Price for Money Market Funds: {0:.2f}'.format(MA.PI))\n",
    "print('Shadow Price for Aggressive Growth Fund: {0:.2f}'.format(GF.PI))\n",
    "print('Shadow Price for Average Risk: {0:.2f}'.format(RI.PI))"
   ]
  },
  {
   "cell_type": "markdown",
   "metadata": {},
   "source": [
    "## The above solution states that the investor should allocate 30% of funds in Adams, 30% funds in Chilton, 20% funds in Dunster and 20% funds in Excelsior to maximize returns. The optimal average annual return is 9.54%"
   ]
  },
  {
   "cell_type": "markdown",
   "metadata": {},
   "source": [
    "## Q5 (Production and Transportation)\n",
    "\n",
    "Solve DMD Exercise 7.9. The question begins with \"Johnson Electric produces small electric motors for four appliance manufacturers in each of the three plants). \n",
    "\n",
    "### Additional instructions and hints\n",
    "When formulating the linear program in part a), **instead of manually defining each variable as in the hint in the book, you should practice using indexing notation**, which also saves you effort on manual input and makes your formulation easily generalizable to larger data sets. You should use the following notation in your formulation:\n",
    "\n",
    "- $I=\\{A,B,C\\}$ represents the set of plants;\n",
    "- $J=\\{O,T,H,D\\}$ represent the set of manufacturers. \n",
    "- Let your decision variables be $x_{ij}$, which is the amount shipped from plant $i \\in I$ to manufacturer $j \\in J$. (For example $x_{AO}$ is the amount shipped from Arlington to Onyx. $\\sum_{j\\in J} x_{Aj}$ is the total amount produced from Arlington. $\\sum_{i \\in I} x_{iO}$ is the total amount shipped to Onyx.)\n",
    "- For each plant $i \\in I$, the production cost is $p_i$ and the monthly capacity is $q_i$. (For example, $p_A=17$ and $q_A=800$.)\n",
    "- For each manufactuer $j \\in J$, the demand of motors per month is given by $d_j$. (For example, $d_O=300$, $d_T=500$.) \n",
    "- For each plant $i\\in I$ and each manufacturer $j\\in J$, the transportation cost from plant $i$ to manufactuer $j$ can be indexed by $c_{ij}$. (For example using the data from the table associated with the question, $c_{AO}=3$, $c_{BT}=4$.)\n",
    "\n",
    "To write a indexed variable in Latex, you can use `c_{ij}` for $c_{ij}$ (make sure to enclose it either in single dollar sign for in-line math or double-dollar sign for stand-alone math). To write summation, you can use the command `\\sum`, with underline and braces to indicate the set you are summing over. For example (double click the following expression to see the code), \n",
    "$$\\text{Total transportation cost} = \\sum_{i \\in I, j \\in J} c_{ij}x_{ij}.$$\n",
    "\n",
    "The above expression is equivalent to looping over both the set of plants $I$ and set of manufacturers $J$ and adding the term $c_{ij} x_{ij}$. \n",
    "\n",
    "The summation notation helps you express many constraints at once. For example you can write the capacity constraint at all three plants using the equation\n",
    "$$ \\text{Respecting capacity:  } \\sum_{j \\in J} x_{ij} \\le q_i \\text{ for every plant $i \\in I$}.$$\n",
    "\n",
    "The decision variables as well as the above constraints can be inputed into Gurobi using the following code.\n",
    "\n",
    "```python\n",
    "import gurobipy as grb\n",
    "import pandas as pd\n",
    "\n",
    "I=['Arlington','Binghamton','Canton']\n",
    "J=['Onyx','Treble','Hilton','Dean']\n",
    "\n",
    "mod=grb.Model()\n",
    "\n",
    "x={}\n",
    "for i in I:\n",
    "    for j in J:\n",
    "        x[i,j]=mod.addVar(lb=0,name='x[{0},{1}]'.format(i,j))\n",
    "\n",
    "q=pd.Series([800,600,700],index=I)\n",
    "        \n",
    "for i in I:\n",
    "    mod.addConstr(sum(x[i,j] for j in J) <= q.loc[i],name='Capacity for '+i)\n",
    "\n",
    "```\n",
    "Note the use of Python command `sum` for constructing summations $\\sum_{j \\in J} x_{ij}$. The command `q.loc[i]` accesses the value of pandas Series `q` corresponding to $i$. For example, `q.loc['Arlington']` is 800.\n",
    "\n",
    "**Write your formulation below using LaTex, then solve using Gurobi:**\n"
   ]
  },
  {
   "cell_type": "markdown",
   "metadata": {},
   "source": [
    "## 7.9 Let $I = \\{A,B,C\\}$ be the set of plants and $J=\\{O,T,H,D\\}$ be the set of customers. $x_{ij}$ is the quantity of electric motors shipped from plant $i \\in I$ to customer $j \\in J$. $c_{ij}$ is the cost of shipping 1 electric motor from plant $i \\in I$ to customer $j \\in J$. \n",
    "This implies that $\\sum_{j \\in J} x_{Aj}$ is the total quantity produced from Plant A and $\\sum_{i \\in I} x_{iO}$ is the total quantity shipped to customer O.\n",
    "For each plant $i \\in I$, the production cost is $p_{i}$ and the total monthly production capacity is $q_{i}$.\n",
    "For each customer $i \\in J$ the monthly demand is $d_{j}$. For each plant $i \\in I$ and each customer $j \\in J$, the cost of shipping is given by $c_{ij}$.\n",
    "\n",
    "$$\\begin{aligned}\n",
    "\\text{minimize:} && \\sum_{i \\in I,j \\in J} c_{ij}x_{ij} + \\sum_{i \\in I} p_{i} \\sum_{j \\in J}x_{ij} \\\\\n",
    "\\text{subject to:} \\\\\n",
    "\\text{Production Capacity Constraint:} && \\sum_{j \\in J} x_{ij} \\le q_{i} \\text { for each plant $i\\in I$} \\\\\n",
    "\\text{Demand Constraint:} && \\sum_{i \\in I} x_{ij} \\ge d_{j} \\text{ for every customer $j \\in J$} \\\\\n",
    "\\text{Non-Negativity Constraint:} && \\sum_{i \\in I,j \\in J} x_{ij} \\ge 0 \\\\\n",
    "\\end{aligned}$$"
   ]
  },
  {
   "cell_type": "code",
   "execution_count": 131,
   "metadata": {},
   "outputs": [
    {
     "name": "stdout",
     "output_type": "stream",
     "text": [
      "Optimal Objective Value: 40500.00\n",
      "Optimal solution\n",
      "\tx[A,O] = 300.00\n",
      "\tx[A,T] = 100.00\n",
      "\tx[A,H] = 400.00\n",
      "\tx[A,D] = 0.00\n",
      "\tx[B,O] = 0.00\n",
      "\tx[B,T] = 0.00\n",
      "\tx[B,H] = 0.00\n",
      "\tx[B,D] = 600.00\n",
      "\tx[C,O] = 0.00\n",
      "\tx[C,T] = 400.00\n",
      "\tx[C,H] = 0.00\n",
      "\tx[C,D] = 0.00\n",
      "Shadow prices:\n",
      "\tCapacity[A] = -6.00\n",
      "\tCapacity[B] = -1.00\n",
      "\tCapacity[C] = 0.00\n",
      "\tDemand [O] = 26.00\n",
      "\tDemand [T] = 25.00\n",
      "\tDemand [H] = 28.00\n",
      "\tDemand [D] = 24.00\n"
     ]
    }
   ],
   "source": [
    "import pandas as pd\n",
    "\n",
    "I = ['A','B','C']\n",
    "J = ['O','T','H','D']\n",
    "\n",
    "mod = grb.Model()\n",
    "x={}\n",
    "for i in I:\n",
    "    for j in J:\n",
    "        x[i,j]= mod.addVar(lb=0,name='x[{0},{1}]'.format(i,j))\n",
    "q = pd.Series([800,600,700],index = I)   \n",
    "p = pd.Series([17,20,24],index=I)\n",
    "d = pd.Series([300,500,400,600],index=J)\n",
    "c = pd.DataFrame([[3,2,5,7],[6,4,8,3],[9,1,5,4]],index=I, columns=J)\n",
    "for i in I:\n",
    "    mod.addConstr(sum(x[i,j] for j in J) <=q.loc[i],name = 'Capacity[{0}]'.format(i))\n",
    "for j in J:\n",
    "    mod.addConstr(sum(x[i,j] for i in I) >= d.loc[j],name = 'Demand [{0}]'.format(j) )\n",
    "##define the objective function\n",
    "#mod.setObjective(sum(sum(c.loc[i,j]*x[i,j] for i in I for j in J),sum(p.loc[i]*x[i,j] for i in I for j in J)),sense = grb.GRB.MINIMIZE)\n",
    "#mod.setObjective(sum(c.loc[i,j]*x[i,j] for i in I for j in J),sense = grb.GRB.MINIMIZE)\n",
    "mod.setObjective(sum(c.loc[i,j]*x[i,j] for i in I for j in J)+sum(p.loc[i]*x[i,j] for i in I for j in J),sense = grb.GRB.MINIMIZE)\n",
    "\n",
    "#Run the optimization and set outputflag to 0 so that intermittent results are not shown\n",
    "mod.setParam('OutputFlag',False)\n",
    "mod.optimize()\n",
    "\n",
    "##print out the results\n",
    "print('Optimal Objective Value: {0:.2f}'.format(mod.ObjVal))\n",
    "print('Optimal solution')\n",
    "for var in mod.getVars():\n",
    "    print('\\t{0} = {1:.2f}'.format(var.VarName,var.x))\n",
    "print('Shadow prices:')\n",
    "for constr in mod.getConstrs():\n",
    "    print('\\t{0} = {1:.2f}'.format(constr.ConstrName,constr.PI))\n"
   ]
  },
  {
   "cell_type": "markdown",
   "metadata": {},
   "source": [
    "### b) Based on the above results, we can see that capacity at Arlington and Binghamton is being fully utilized and is a binding constraint while capacity at Canton is not utilized fully. Therefore, any further capital cost should be incurred in increasing production capacity at Arlington as there is higher reduction of 6 dollars per unit increase in capacity and then at Binghamton. \n",
    "### Increase in demand at Dean shall lead to the lowest increase in costs to the company and should be favored as against other customers\n"
   ]
  },
  {
   "cell_type": "markdown",
   "metadata": {},
   "source": []
  }
 ],
 "metadata": {
  "kernelspec": {
   "display_name": "Python 3",
   "language": "python",
   "name": "python3"
  },
  "language_info": {
   "codemirror_mode": {
    "name": "ipython",
    "version": 3
   },
   "file_extension": ".py",
   "mimetype": "text/x-python",
   "name": "python",
   "nbconvert_exporter": "python",
   "pygments_lexer": "ipython3",
   "version": "3.6.3"
  }
 },
 "nbformat": 4,
 "nbformat_minor": 2
}
