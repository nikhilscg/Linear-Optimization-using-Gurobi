{
 "cells": [
  {
   "cell_type": "code",
   "execution_count": 2,
   "metadata": {},
   "outputs": [],
   "source": [
    "import gurobipy as grb\n",
    "import pandas as pd\n",
    "\n",
    "mod = grb.Model()\n",
    "\n",
    "FC = centers.index\n",
    "FC=FC.tolist()\n",
    "item=items.index.tolist()\n",
    "region = regions.index.tolist()\n",
    "\n",
    "\n",
    "inputFile='data.xlsx'\n",
    "data=pd.read_excel(inputFile,sheet_name=None,index_col=0)\n",
    "centers=data['Fulfilment Centers']\n",
    "regions=data['Regions']\n",
    "distances=data['Distances']\n",
    "items=data['Items']\n",
    "demand=data['Demand']\n",
    "weight = pd.Series(items.iloc[:,0].tolist(),index=item)\n",
    "size=pd.Series(items.iloc[:,1].tolist(),index=item)\n",
    "capacity = pd.Series(centers.iloc[:,1].tolist(),index=FC)\n",
    "distance = pd.DataFrame(distances,index=region,columns=FC)\n",
    "demand = pd.DataFrame(demand,index = item,columns = region)"
   ]
  },
  {
   "cell_type": "code",
   "execution_count": 3,
   "metadata": {
    "collapsed": true
   },
   "outputs": [],
   "source": [
    "x={}\n",
    "for i in item:\n",
    "    for j in FC:\n",
    "        for k in region:\n",
    "            x[i,j,k] = mod.addVar(lb=0,name='x[{0},{1},{2}]'.format(i,j,k))\n"
   ]
  },
  {
   "cell_type": "code",
   "execution_count": 4,
   "metadata": {
    "collapsed": true
   },
   "outputs": [],
   "source": [
    "mod.setObjective(1.38*sum(weight[i] *sum(x[i,j,k]*distance.loc[k,j] for j in FC for k in region) for i in item),sense=grb.GRB.MINIMIZE)"
   ]
  },
  {
   "cell_type": "code",
   "execution_count": 5,
   "metadata": {
    "collapsed": true
   },
   "outputs": [],
   "source": [
    "cap = {}\n",
    "for j in FC:\n",
    "    cap[j]=mod.addConstr(sum(x[i,j,k]*size.loc[i] for i in item for k in region)<=capacity.loc[j],name='Capacity {0}'.format(j))\n",
    "for i in item:\n",
    "    for k in region:\n",
    "        mod.addConstr(sum(x[i,j,k] for j in FC)>=demand.loc[i,k],name='Demand {0} {1}'.format(i,k))"
   ]
  },
  {
   "cell_type": "code",
   "execution_count": 6,
   "metadata": {
    "collapsed": true
   },
   "outputs": [],
   "source": [
    "##run\n",
    "mod.setParam('OutputFlag',False)\n",
    "mod.optimize()"
   ]
  },
  {
   "cell_type": "code",
   "execution_count": 7,
   "metadata": {},
   "outputs": [
    {
     "name": "stdout",
     "output_type": "stream",
     "text": [
      "Optimal Objective Value: 9841229.29\n"
     ]
    }
   ],
   "source": [
    "##print outputs\n",
    "print('Optimal Objective Value: {0:.2f}'.format(mod.ObjVal))\n",
    "shipment = []\n",
    "for i in item:\n",
    "    for j in FC:\n",
    "        for k in region:\n",
    "            shipment.append([j,k,i,x[i,j,k].x])\n",
    "shipmentDF = pd.DataFrame(shipment,columns=['FC','Region','Item','Quantity'])\n",
    "shipmentDF.to_excel('shipment.xlsx')\n",
    "\n",
    "output = []\n",
    "for j in cap:\n",
    "    output.append([j,cap[j].PI])\n",
    "outDF = pd.DataFrame(output,columns = ['FC','Shadow Price'])\n",
    "outDF.to_excel('output.xlsx')"
   ]
  }
 ],
 "metadata": {
  "kernelspec": {
   "display_name": "Python 3",
   "language": "python",
   "name": "python3"
  },
  "language_info": {
   "codemirror_mode": {
    "name": "ipython",
    "version": 3
   },
   "file_extension": ".py",
   "mimetype": "text/x-python",
   "name": "python",
   "nbconvert_exporter": "python",
   "pygments_lexer": "ipython3",
   "version": "3.6.3"
  }
 },
 "nbformat": 4,
 "nbformat_minor": 2
}
