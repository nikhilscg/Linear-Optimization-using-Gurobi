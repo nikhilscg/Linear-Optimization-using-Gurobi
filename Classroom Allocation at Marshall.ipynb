{
 "cells": [
  {
   "cell_type": "markdown",
   "metadata": {},
   "source": [
    "## Data Exploration and Data Manpulation"
   ]
  },
  {
   "cell_type": "code",
   "execution_count": 1,
   "metadata": {
    "collapsed": true
   },
   "outputs": [],
   "source": [
    "import pandas as pd\n",
    "inputFile='test_data_for_final.xlsx'\n",
    "data=pd.read_excel(inputFile, sheet_name=None, index_col=0)\n",
    "course=data['course']\n",
    "slots=data['slots']\n",
    "time_pref=data['time_pref']\n",
    "day_pref=data['day_pref']\n",
    "instructors=data['instructor']"
   ]
  },
  {
   "cell_type": "markdown",
   "metadata": {},
   "source": [
    "### Input Tables"
   ]
  },
  {
   "cell_type": "markdown",
   "metadata": {},
   "source": [
    "#### Input Table 1. Course information table. \n",
    "Course here refers to each course session, for example, DSO570 has two sessions, they will be treated as two seperate courses with the session numbers as the unique identifers.\n",
    "\n",
    "Some courses need to be delivered on two different days. The \"Parts\" Column means how many sections a course has. Duration means how long a course section is expected to be. Num_students means how many students are expected to be registered (based on previous year data\"."
   ]
  },
  {
   "cell_type": "code",
   "execution_count": 2,
   "metadata": {},
   "outputs": [
    {
     "data": {
      "text/html": [
       "<div>\n",
       "<style scoped>\n",
       "    .dataframe tbody tr th:only-of-type {\n",
       "        vertical-align: middle;\n",
       "    }\n",
       "\n",
       "    .dataframe tbody tr th {\n",
       "        vertical-align: top;\n",
       "    }\n",
       "\n",
       "    .dataframe thead th {\n",
       "        text-align: right;\n",
       "    }\n",
       "</style>\n",
       "<table border=\"1\" class=\"dataframe\">\n",
       "  <thead>\n",
       "    <tr style=\"text-align: right;\">\n",
       "      <th></th>\n",
       "      <th>Parts</th>\n",
       "      <th>Duration</th>\n",
       "      <th>Num_students</th>\n",
       "    </tr>\n",
       "    <tr>\n",
       "      <th>Course</th>\n",
       "      <th></th>\n",
       "      <th></th>\n",
       "      <th></th>\n",
       "    </tr>\n",
       "  </thead>\n",
       "  <tbody>\n",
       "    <tr>\n",
       "      <th>16219</th>\n",
       "      <td>1</td>\n",
       "      <td>110</td>\n",
       "      <td>35</td>\n",
       "    </tr>\n",
       "    <tr>\n",
       "      <th>16215</th>\n",
       "      <td>1</td>\n",
       "      <td>110</td>\n",
       "      <td>35</td>\n",
       "    </tr>\n",
       "    <tr>\n",
       "      <th>16225</th>\n",
       "      <td>2</td>\n",
       "      <td>110</td>\n",
       "      <td>35</td>\n",
       "    </tr>\n",
       "    <tr>\n",
       "      <th>16280</th>\n",
       "      <td>2</td>\n",
       "      <td>80</td>\n",
       "      <td>45</td>\n",
       "    </tr>\n",
       "    <tr>\n",
       "      <th>16288</th>\n",
       "      <td>1</td>\n",
       "      <td>170</td>\n",
       "      <td>45</td>\n",
       "    </tr>\n",
       "  </tbody>\n",
       "</table>\n",
       "</div>"
      ],
      "text/plain": [
       "        Parts  Duration  Num_students\n",
       "Course                               \n",
       "16219       1       110            35\n",
       "16215       1       110            35\n",
       "16225       2       110            35\n",
       "16280       2        80            45\n",
       "16288       1       170            45"
      ]
     },
     "execution_count": 2,
     "metadata": {},
     "output_type": "execute_result"
    }
   ],
   "source": [
    "course.head()"
   ]
  },
  {
   "cell_type": "markdown",
   "metadata": {},
   "source": [
    "#### Input Table 2. Slot information table.\n",
    "\n",
    "* We are dealing with department course scheduling problem. The slots table shows which slots are available. Originally, two slots can be assigned together, for example \"MW Morning 8:00-9:50\", we break up a combined assignment into two slots. The reason is that two combined slots maybe assigned to two different courses with only one secion. \n",
    "\n",
    "* Each slot has the information of the room, capacity, day, time period and the actual begin and end time. \n",
    "\n",
    "* A few 3 hour slots and 1.5 hour slots can be manually created in this table."
   ]
  },
  {
   "cell_type": "code",
   "execution_count": 3,
   "metadata": {},
   "outputs": [
    {
     "data": {
      "text/html": [
       "<div>\n",
       "<style scoped>\n",
       "    .dataframe tbody tr th:only-of-type {\n",
       "        vertical-align: middle;\n",
       "    }\n",
       "\n",
       "    .dataframe tbody tr th {\n",
       "        vertical-align: top;\n",
       "    }\n",
       "\n",
       "    .dataframe thead th {\n",
       "        text-align: right;\n",
       "    }\n",
       "</style>\n",
       "<table border=\"1\" class=\"dataframe\">\n",
       "  <thead>\n",
       "    <tr style=\"text-align: right;\">\n",
       "      <th></th>\n",
       "      <th>Room</th>\n",
       "      <th>Capacity</th>\n",
       "      <th>Day</th>\n",
       "      <th>Time</th>\n",
       "      <th>Begin</th>\n",
       "      <th>End</th>\n",
       "    </tr>\n",
       "    <tr>\n",
       "      <th>Slot</th>\n",
       "      <th></th>\n",
       "      <th></th>\n",
       "      <th></th>\n",
       "      <th></th>\n",
       "      <th></th>\n",
       "      <th></th>\n",
       "    </tr>\n",
       "  </thead>\n",
       "  <tbody>\n",
       "    <tr>\n",
       "      <th>1</th>\n",
       "      <td>ACC205</td>\n",
       "      <td>36</td>\n",
       "      <td>M</td>\n",
       "      <td>Early_Morning</td>\n",
       "      <td>08:00:00</td>\n",
       "      <td>09:50:00</td>\n",
       "    </tr>\n",
       "    <tr>\n",
       "      <th>2</th>\n",
       "      <td>ACC205</td>\n",
       "      <td>36</td>\n",
       "      <td>M</td>\n",
       "      <td>Morning</td>\n",
       "      <td>10:00:00</td>\n",
       "      <td>11:50:00</td>\n",
       "    </tr>\n",
       "    <tr>\n",
       "      <th>3</th>\n",
       "      <td>JFF 240</td>\n",
       "      <td>48</td>\n",
       "      <td>T</td>\n",
       "      <td>Evening</td>\n",
       "      <td>18:00:00</td>\n",
       "      <td>19:50:00</td>\n",
       "    </tr>\n",
       "    <tr>\n",
       "      <th>4</th>\n",
       "      <td>ACC205</td>\n",
       "      <td>36</td>\n",
       "      <td>W</td>\n",
       "      <td>Early_Morning</td>\n",
       "      <td>08:00:00</td>\n",
       "      <td>09:50:00</td>\n",
       "    </tr>\n",
       "    <tr>\n",
       "      <th>5</th>\n",
       "      <td>ACC205</td>\n",
       "      <td>36</td>\n",
       "      <td>M</td>\n",
       "      <td>Morning</td>\n",
       "      <td>10:00:00</td>\n",
       "      <td>11:50:00</td>\n",
       "    </tr>\n",
       "  </tbody>\n",
       "</table>\n",
       "</div>"
      ],
      "text/plain": [
       "         Room  Capacity Day           Time     Begin       End\n",
       "Slot                                                          \n",
       "1      ACC205        36   M  Early_Morning  08:00:00  09:50:00\n",
       "2      ACC205        36   M        Morning  10:00:00  11:50:00\n",
       "3     JFF 240        48   T        Evening  18:00:00  19:50:00\n",
       "4      ACC205        36   W  Early_Morning  08:00:00  09:50:00\n",
       "5      ACC205        36   M        Morning  10:00:00  11:50:00"
      ]
     },
     "execution_count": 3,
     "metadata": {},
     "output_type": "execute_result"
    }
   ],
   "source": [
    "slots.head()"
   ]
  },
  {
   "cell_type": "markdown",
   "metadata": {},
   "source": [
    "####  Input Table 3. Instructor-course correspondence table\n",
    "Some teachers teach multiple courses, as shown below."
   ]
  },
  {
   "cell_type": "code",
   "execution_count": 4,
   "metadata": {},
   "outputs": [
    {
     "data": {
      "text/html": [
       "<div>\n",
       "<style scoped>\n",
       "    .dataframe tbody tr th:only-of-type {\n",
       "        vertical-align: middle;\n",
       "    }\n",
       "\n",
       "    .dataframe tbody tr th {\n",
       "        vertical-align: top;\n",
       "    }\n",
       "\n",
       "    .dataframe thead th {\n",
       "        text-align: right;\n",
       "    }\n",
       "</style>\n",
       "<table border=\"1\" class=\"dataframe\">\n",
       "  <thead>\n",
       "    <tr style=\"text-align: right;\">\n",
       "      <th></th>\n",
       "      <th>Instructor</th>\n",
       "    </tr>\n",
       "    <tr>\n",
       "      <th>Course</th>\n",
       "      <th></th>\n",
       "    </tr>\n",
       "  </thead>\n",
       "  <tbody>\n",
       "    <tr>\n",
       "      <th>16219</th>\n",
       "      <td>Pereira, Francis</td>\n",
       "    </tr>\n",
       "    <tr>\n",
       "      <th>16215</th>\n",
       "      <td>Pereira, Francis</td>\n",
       "    </tr>\n",
       "    <tr>\n",
       "      <th>16225</th>\n",
       "      <td>Majchrzak, Ann</td>\n",
       "    </tr>\n",
       "    <tr>\n",
       "      <th>16280</th>\n",
       "      <td>Selbe, Omeed</td>\n",
       "    </tr>\n",
       "    <tr>\n",
       "      <th>16288</th>\n",
       "      <td>Sosic, Greys</td>\n",
       "    </tr>\n",
       "  </tbody>\n",
       "</table>\n",
       "</div>"
      ],
      "text/plain": [
       "              Instructor\n",
       "Course                  \n",
       "16219   Pereira, Francis\n",
       "16215   Pereira, Francis\n",
       "16225     Majchrzak, Ann\n",
       "16280       Selbe, Omeed\n",
       "16288       Sosic, Greys"
      ]
     },
     "execution_count": 4,
     "metadata": {},
     "output_type": "execute_result"
    }
   ],
   "source": [
    "instructors.head()"
   ]
  },
  {
   "cell_type": "markdown",
   "metadata": {},
   "source": [
    "#### Input Table 4 & 5 Time Preference Table and Day Preference Table\n",
    "In the future, time preference table and day preference table data can be collected through a survey. \n",
    "The following two tables time_pref and day_pref are hypothetical data, assuming teachers preference towards different time of the day and the day of the week have been collected. If a teacher teach multiple courses,the preference scores towards day and time are the same for these courses.   "
   ]
  },
  {
   "cell_type": "code",
   "execution_count": 5,
   "metadata": {},
   "outputs": [
    {
     "data": {
      "text/html": [
       "<div>\n",
       "<style scoped>\n",
       "    .dataframe tbody tr th:only-of-type {\n",
       "        vertical-align: middle;\n",
       "    }\n",
       "\n",
       "    .dataframe tbody tr th {\n",
       "        vertical-align: top;\n",
       "    }\n",
       "\n",
       "    .dataframe thead th {\n",
       "        text-align: right;\n",
       "    }\n",
       "</style>\n",
       "<table border=\"1\" class=\"dataframe\">\n",
       "  <thead>\n",
       "    <tr style=\"text-align: right;\">\n",
       "      <th></th>\n",
       "      <th>Early Morning</th>\n",
       "      <th>Morning</th>\n",
       "      <th>Afternoon</th>\n",
       "      <th>Evening</th>\n",
       "    </tr>\n",
       "    <tr>\n",
       "      <th>Course</th>\n",
       "      <th></th>\n",
       "      <th></th>\n",
       "      <th></th>\n",
       "      <th></th>\n",
       "    </tr>\n",
       "  </thead>\n",
       "  <tbody>\n",
       "    <tr>\n",
       "      <th>16219</th>\n",
       "      <td>1</td>\n",
       "      <td>2</td>\n",
       "      <td>2</td>\n",
       "      <td>1</td>\n",
       "    </tr>\n",
       "    <tr>\n",
       "      <th>16215</th>\n",
       "      <td>1</td>\n",
       "      <td>2</td>\n",
       "      <td>2</td>\n",
       "      <td>1</td>\n",
       "    </tr>\n",
       "    <tr>\n",
       "      <th>16225</th>\n",
       "      <td>0</td>\n",
       "      <td>2</td>\n",
       "      <td>2</td>\n",
       "      <td>1</td>\n",
       "    </tr>\n",
       "    <tr>\n",
       "      <th>16280</th>\n",
       "      <td>0</td>\n",
       "      <td>2</td>\n",
       "      <td>1</td>\n",
       "      <td>2</td>\n",
       "    </tr>\n",
       "    <tr>\n",
       "      <th>16288</th>\n",
       "      <td>1</td>\n",
       "      <td>1</td>\n",
       "      <td>2</td>\n",
       "      <td>1</td>\n",
       "    </tr>\n",
       "  </tbody>\n",
       "</table>\n",
       "</div>"
      ],
      "text/plain": [
       "        Early Morning  Morning  Afternoon  Evening\n",
       "Course                                            \n",
       "16219               1        2          2        1\n",
       "16215               1        2          2        1\n",
       "16225               0        2          2        1\n",
       "16280               0        2          1        2\n",
       "16288               1        1          2        1"
      ]
     },
     "execution_count": 5,
     "metadata": {},
     "output_type": "execute_result"
    }
   ],
   "source": [
    "time_pref.head()"
   ]
  },
  {
   "cell_type": "code",
   "execution_count": 6,
   "metadata": {},
   "outputs": [
    {
     "data": {
      "text/html": [
       "<div>\n",
       "<style scoped>\n",
       "    .dataframe tbody tr th:only-of-type {\n",
       "        vertical-align: middle;\n",
       "    }\n",
       "\n",
       "    .dataframe tbody tr th {\n",
       "        vertical-align: top;\n",
       "    }\n",
       "\n",
       "    .dataframe thead th {\n",
       "        text-align: right;\n",
       "    }\n",
       "</style>\n",
       "<table border=\"1\" class=\"dataframe\">\n",
       "  <thead>\n",
       "    <tr style=\"text-align: right;\">\n",
       "      <th></th>\n",
       "      <th>M</th>\n",
       "      <th>T</th>\n",
       "      <th>W</th>\n",
       "      <th>H</th>\n",
       "      <th>F</th>\n",
       "    </tr>\n",
       "    <tr>\n",
       "      <th>Course</th>\n",
       "      <th></th>\n",
       "      <th></th>\n",
       "      <th></th>\n",
       "      <th></th>\n",
       "      <th></th>\n",
       "    </tr>\n",
       "  </thead>\n",
       "  <tbody>\n",
       "    <tr>\n",
       "      <th>16219</th>\n",
       "      <td>2</td>\n",
       "      <td>1</td>\n",
       "      <td>2</td>\n",
       "      <td>1</td>\n",
       "      <td>0</td>\n",
       "    </tr>\n",
       "    <tr>\n",
       "      <th>16215</th>\n",
       "      <td>2</td>\n",
       "      <td>1</td>\n",
       "      <td>2</td>\n",
       "      <td>1</td>\n",
       "      <td>0</td>\n",
       "    </tr>\n",
       "    <tr>\n",
       "      <th>16225</th>\n",
       "      <td>1</td>\n",
       "      <td>2</td>\n",
       "      <td>1</td>\n",
       "      <td>2</td>\n",
       "      <td>1</td>\n",
       "    </tr>\n",
       "    <tr>\n",
       "      <th>16280</th>\n",
       "      <td>1</td>\n",
       "      <td>2</td>\n",
       "      <td>1</td>\n",
       "      <td>2</td>\n",
       "      <td>0</td>\n",
       "    </tr>\n",
       "    <tr>\n",
       "      <th>16288</th>\n",
       "      <td>1</td>\n",
       "      <td>2</td>\n",
       "      <td>1</td>\n",
       "      <td>2</td>\n",
       "      <td>1</td>\n",
       "    </tr>\n",
       "  </tbody>\n",
       "</table>\n",
       "</div>"
      ],
      "text/plain": [
       "        M  T  W  H  F\n",
       "Course               \n",
       "16219   2  1  2  1  0\n",
       "16215   2  1  2  1  0\n",
       "16225   1  2  1  2  1\n",
       "16280   1  2  1  2  0\n",
       "16288   1  2  1  2  1"
      ]
     },
     "execution_count": 6,
     "metadata": {},
     "output_type": "execute_result"
    }
   ],
   "source": [
    "day_pref.head()"
   ]
  },
  {
   "cell_type": "markdown",
   "metadata": {},
   "source": [
    "### New Tables Created based on Input Data"
   ]
  },
  {
   "cell_type": "markdown",
   "metadata": {},
   "source": [
    "#### Table 6. Preference scores towards time of each slot\n",
    "\n",
    "Based on the day_pref and time_pref data, we can create a new data_frame that shows the preference scores for each course each day_time combintation. For example, the teacher teaching \"16219\" scores 1, 2, 2, 1 on early morning, morning, afternoon, and evening, and scores 2, 1, 2, 1,0 on M through F. By multipling the perference towards a day and the preference score on a time, we get the combined score. Any 0 zero score will result in 0 in the multiplication. The pref_df table is the result table."
   ]
  },
  {
   "cell_type": "code",
   "execution_count": 7,
   "metadata": {},
   "outputs": [
    {
     "data": {
      "text/html": [
       "<div>\n",
       "<style scoped>\n",
       "    .dataframe tbody tr th:only-of-type {\n",
       "        vertical-align: middle;\n",
       "    }\n",
       "\n",
       "    .dataframe tbody tr th {\n",
       "        vertical-align: top;\n",
       "    }\n",
       "\n",
       "    .dataframe thead th {\n",
       "        text-align: right;\n",
       "    }\n",
       "</style>\n",
       "<table border=\"1\" class=\"dataframe\">\n",
       "  <thead>\n",
       "    <tr style=\"text-align: right;\">\n",
       "      <th></th>\n",
       "      <th>M_Early_Morning</th>\n",
       "      <th>M_Morning</th>\n",
       "      <th>M_Afternoon</th>\n",
       "      <th>M_Evening</th>\n",
       "      <th>T_Early_Morning</th>\n",
       "      <th>T_Morning</th>\n",
       "      <th>T_Afternoon</th>\n",
       "      <th>T_Evening</th>\n",
       "      <th>W_Early_Morning</th>\n",
       "      <th>W_Morning</th>\n",
       "      <th>W_Afternoon</th>\n",
       "      <th>W_Evening</th>\n",
       "      <th>H_Early_Morning</th>\n",
       "      <th>H_Morning</th>\n",
       "      <th>H_Afternoon</th>\n",
       "      <th>H_Evening</th>\n",
       "      <th>F_Early_Morning</th>\n",
       "      <th>F_Morning</th>\n",
       "      <th>F_Afternoon</th>\n",
       "      <th>F_Evening</th>\n",
       "    </tr>\n",
       "    <tr>\n",
       "      <th>Course</th>\n",
       "      <th></th>\n",
       "      <th></th>\n",
       "      <th></th>\n",
       "      <th></th>\n",
       "      <th></th>\n",
       "      <th></th>\n",
       "      <th></th>\n",
       "      <th></th>\n",
       "      <th></th>\n",
       "      <th></th>\n",
       "      <th></th>\n",
       "      <th></th>\n",
       "      <th></th>\n",
       "      <th></th>\n",
       "      <th></th>\n",
       "      <th></th>\n",
       "      <th></th>\n",
       "      <th></th>\n",
       "      <th></th>\n",
       "      <th></th>\n",
       "    </tr>\n",
       "  </thead>\n",
       "  <tbody>\n",
       "    <tr>\n",
       "      <th>16219</th>\n",
       "      <td>2</td>\n",
       "      <td>4</td>\n",
       "      <td>4</td>\n",
       "      <td>2</td>\n",
       "      <td>1</td>\n",
       "      <td>2</td>\n",
       "      <td>2</td>\n",
       "      <td>1</td>\n",
       "      <td>2</td>\n",
       "      <td>4</td>\n",
       "      <td>4</td>\n",
       "      <td>2</td>\n",
       "      <td>1</td>\n",
       "      <td>2</td>\n",
       "      <td>2</td>\n",
       "      <td>1</td>\n",
       "      <td>0</td>\n",
       "      <td>0</td>\n",
       "      <td>0</td>\n",
       "      <td>0</td>\n",
       "    </tr>\n",
       "    <tr>\n",
       "      <th>16215</th>\n",
       "      <td>2</td>\n",
       "      <td>4</td>\n",
       "      <td>4</td>\n",
       "      <td>2</td>\n",
       "      <td>1</td>\n",
       "      <td>2</td>\n",
       "      <td>2</td>\n",
       "      <td>1</td>\n",
       "      <td>2</td>\n",
       "      <td>4</td>\n",
       "      <td>4</td>\n",
       "      <td>2</td>\n",
       "      <td>1</td>\n",
       "      <td>2</td>\n",
       "      <td>2</td>\n",
       "      <td>1</td>\n",
       "      <td>0</td>\n",
       "      <td>0</td>\n",
       "      <td>0</td>\n",
       "      <td>0</td>\n",
       "    </tr>\n",
       "    <tr>\n",
       "      <th>16225</th>\n",
       "      <td>0</td>\n",
       "      <td>2</td>\n",
       "      <td>2</td>\n",
       "      <td>1</td>\n",
       "      <td>0</td>\n",
       "      <td>4</td>\n",
       "      <td>4</td>\n",
       "      <td>2</td>\n",
       "      <td>0</td>\n",
       "      <td>2</td>\n",
       "      <td>2</td>\n",
       "      <td>1</td>\n",
       "      <td>0</td>\n",
       "      <td>4</td>\n",
       "      <td>4</td>\n",
       "      <td>2</td>\n",
       "      <td>0</td>\n",
       "      <td>2</td>\n",
       "      <td>2</td>\n",
       "      <td>1</td>\n",
       "    </tr>\n",
       "    <tr>\n",
       "      <th>16280</th>\n",
       "      <td>0</td>\n",
       "      <td>2</td>\n",
       "      <td>1</td>\n",
       "      <td>2</td>\n",
       "      <td>0</td>\n",
       "      <td>4</td>\n",
       "      <td>2</td>\n",
       "      <td>4</td>\n",
       "      <td>0</td>\n",
       "      <td>2</td>\n",
       "      <td>1</td>\n",
       "      <td>2</td>\n",
       "      <td>0</td>\n",
       "      <td>4</td>\n",
       "      <td>2</td>\n",
       "      <td>4</td>\n",
       "      <td>0</td>\n",
       "      <td>0</td>\n",
       "      <td>0</td>\n",
       "      <td>0</td>\n",
       "    </tr>\n",
       "    <tr>\n",
       "      <th>16288</th>\n",
       "      <td>1</td>\n",
       "      <td>1</td>\n",
       "      <td>2</td>\n",
       "      <td>1</td>\n",
       "      <td>2</td>\n",
       "      <td>2</td>\n",
       "      <td>4</td>\n",
       "      <td>2</td>\n",
       "      <td>1</td>\n",
       "      <td>1</td>\n",
       "      <td>2</td>\n",
       "      <td>1</td>\n",
       "      <td>2</td>\n",
       "      <td>2</td>\n",
       "      <td>4</td>\n",
       "      <td>2</td>\n",
       "      <td>1</td>\n",
       "      <td>1</td>\n",
       "      <td>2</td>\n",
       "      <td>1</td>\n",
       "    </tr>\n",
       "  </tbody>\n",
       "</table>\n",
       "</div>"
      ],
      "text/plain": [
       "        M_Early_Morning  M_Morning  M_Afternoon  M_Evening  T_Early_Morning  \\\n",
       "Course                                                                        \n",
       "16219                 2          4            4          2                1   \n",
       "16215                 2          4            4          2                1   \n",
       "16225                 0          2            2          1                0   \n",
       "16280                 0          2            1          2                0   \n",
       "16288                 1          1            2          1                2   \n",
       "\n",
       "        T_Morning  T_Afternoon  T_Evening  W_Early_Morning  W_Morning  \\\n",
       "Course                                                                  \n",
       "16219           2            2          1                2          4   \n",
       "16215           2            2          1                2          4   \n",
       "16225           4            4          2                0          2   \n",
       "16280           4            2          4                0          2   \n",
       "16288           2            4          2                1          1   \n",
       "\n",
       "        W_Afternoon  W_Evening  H_Early_Morning  H_Morning  H_Afternoon  \\\n",
       "Course                                                                    \n",
       "16219             4          2                1          2            2   \n",
       "16215             4          2                1          2            2   \n",
       "16225             2          1                0          4            4   \n",
       "16280             1          2                0          4            2   \n",
       "16288             2          1                2          2            4   \n",
       "\n",
       "        H_Evening  F_Early_Morning  F_Morning  F_Afternoon  F_Evening  \n",
       "Course                                                                 \n",
       "16219           1                0          0            0          0  \n",
       "16215           1                0          0            0          0  \n",
       "16225           2                0          2            2          1  \n",
       "16280           4                0          0            0          0  \n",
       "16288           2                1          1            2          1  "
      ]
     },
     "execution_count": 7,
     "metadata": {},
     "output_type": "execute_result"
    }
   ],
   "source": [
    "pref=[]\n",
    "for index, row in day_pref.iterrows():\n",
    "    pref_row=[]\n",
    "    for day in row.index:\n",
    "        pref_row.extend(row.loc[day]*time_pref.loc[index,:].values)\n",
    "    pref.append(pref_row)\n",
    "\n",
    "col_names=[]\n",
    "for day in \"MTWHF\":\n",
    "    for time in [\"Early_Morning\", \"Morning\", \"Afternoon\", \"Evening\"]:\n",
    "        col_names.append(day+\"_\"+time)\n",
    "\n",
    "pref_df=pd.DataFrame(pref, index=day_pref.index, columns=col_names)     \n",
    "pref_df.head()"
   ]
  },
  {
   "cell_type": "markdown",
   "metadata": {},
   "source": [
    "#### Table 7. Manipulated Slots Information Table\n",
    "* Manipulate the slots table to create a day_time combination variable and duation variable for later analysis."
   ]
  },
  {
   "cell_type": "code",
   "execution_count": 8,
   "metadata": {
    "collapsed": true
   },
   "outputs": [],
   "source": [
    "slots['day_time']=slots.Day.str.cat(slots.Time, sep=\"_\")"
   ]
  },
  {
   "cell_type": "code",
   "execution_count": 9,
   "metadata": {},
   "outputs": [
    {
     "name": "stdout",
     "output_type": "stream",
     "text": [
      "590.0\n"
     ]
    }
   ],
   "source": [
    "##The function to manipulate time data, convert it to intergers\n",
    "import numpy as np\n",
    "def convert(inputTime):\n",
    "    try:\n",
    "        hh, mm, ss=inputTime.split(':')\n",
    "        ans=int(hh)*60+int(mm)+int(ss)/3600\n",
    "    except:\n",
    "        ans=np.nan\n",
    "    return ans\n",
    "\n",
    "##test\n",
    "print(convert(\"9:50:00\"))"
   ]
  },
  {
   "cell_type": "code",
   "execution_count": 10,
   "metadata": {
    "collapsed": true
   },
   "outputs": [],
   "source": [
    "duration=[]\n",
    "for index, row in slots.iterrows():\n",
    "    beg=convert(str(row['Begin']))\n",
    "    end=convert(str(row['End']))\n",
    "    duration.append(end-beg)\n",
    "slots[\"Duration\"]=duration"
   ]
  },
  {
   "cell_type": "code",
   "execution_count": 11,
   "metadata": {},
   "outputs": [
    {
     "data": {
      "text/html": [
       "<div>\n",
       "<style scoped>\n",
       "    .dataframe tbody tr th:only-of-type {\n",
       "        vertical-align: middle;\n",
       "    }\n",
       "\n",
       "    .dataframe tbody tr th {\n",
       "        vertical-align: top;\n",
       "    }\n",
       "\n",
       "    .dataframe thead th {\n",
       "        text-align: right;\n",
       "    }\n",
       "</style>\n",
       "<table border=\"1\" class=\"dataframe\">\n",
       "  <thead>\n",
       "    <tr style=\"text-align: right;\">\n",
       "      <th></th>\n",
       "      <th>Room</th>\n",
       "      <th>Capacity</th>\n",
       "      <th>Day</th>\n",
       "      <th>Time</th>\n",
       "      <th>Begin</th>\n",
       "      <th>End</th>\n",
       "      <th>day_time</th>\n",
       "      <th>Duration</th>\n",
       "    </tr>\n",
       "    <tr>\n",
       "      <th>Slot</th>\n",
       "      <th></th>\n",
       "      <th></th>\n",
       "      <th></th>\n",
       "      <th></th>\n",
       "      <th></th>\n",
       "      <th></th>\n",
       "      <th></th>\n",
       "      <th></th>\n",
       "    </tr>\n",
       "  </thead>\n",
       "  <tbody>\n",
       "    <tr>\n",
       "      <th>1</th>\n",
       "      <td>ACC205</td>\n",
       "      <td>36</td>\n",
       "      <td>M</td>\n",
       "      <td>Early_Morning</td>\n",
       "      <td>08:00:00</td>\n",
       "      <td>09:50:00</td>\n",
       "      <td>M_Early_Morning</td>\n",
       "      <td>110.0</td>\n",
       "    </tr>\n",
       "    <tr>\n",
       "      <th>2</th>\n",
       "      <td>ACC205</td>\n",
       "      <td>36</td>\n",
       "      <td>M</td>\n",
       "      <td>Morning</td>\n",
       "      <td>10:00:00</td>\n",
       "      <td>11:50:00</td>\n",
       "      <td>M_Morning</td>\n",
       "      <td>110.0</td>\n",
       "    </tr>\n",
       "    <tr>\n",
       "      <th>3</th>\n",
       "      <td>JFF 240</td>\n",
       "      <td>48</td>\n",
       "      <td>T</td>\n",
       "      <td>Evening</td>\n",
       "      <td>18:00:00</td>\n",
       "      <td>19:50:00</td>\n",
       "      <td>T_Evening</td>\n",
       "      <td>110.0</td>\n",
       "    </tr>\n",
       "    <tr>\n",
       "      <th>4</th>\n",
       "      <td>ACC205</td>\n",
       "      <td>36</td>\n",
       "      <td>W</td>\n",
       "      <td>Early_Morning</td>\n",
       "      <td>08:00:00</td>\n",
       "      <td>09:50:00</td>\n",
       "      <td>W_Early_Morning</td>\n",
       "      <td>110.0</td>\n",
       "    </tr>\n",
       "    <tr>\n",
       "      <th>5</th>\n",
       "      <td>ACC205</td>\n",
       "      <td>36</td>\n",
       "      <td>M</td>\n",
       "      <td>Morning</td>\n",
       "      <td>10:00:00</td>\n",
       "      <td>11:50:00</td>\n",
       "      <td>M_Morning</td>\n",
       "      <td>110.0</td>\n",
       "    </tr>\n",
       "  </tbody>\n",
       "</table>\n",
       "</div>"
      ],
      "text/plain": [
       "         Room  Capacity Day           Time     Begin       End  \\\n",
       "Slot                                                             \n",
       "1      ACC205        36   M  Early_Morning  08:00:00  09:50:00   \n",
       "2      ACC205        36   M        Morning  10:00:00  11:50:00   \n",
       "3     JFF 240        48   T        Evening  18:00:00  19:50:00   \n",
       "4      ACC205        36   W  Early_Morning  08:00:00  09:50:00   \n",
       "5      ACC205        36   M        Morning  10:00:00  11:50:00   \n",
       "\n",
       "             day_time  Duration  \n",
       "Slot                             \n",
       "1     M_Early_Morning     110.0  \n",
       "2           M_Morning     110.0  \n",
       "3           T_Evening     110.0  \n",
       "4     W_Early_Morning     110.0  \n",
       "5           M_Morning     110.0  "
      ]
     },
     "execution_count": 11,
     "metadata": {},
     "output_type": "execute_result"
    }
   ],
   "source": [
    "###This is the new slots table\n",
    "slots.head()"
   ]
  },
  {
   "cell_type": "markdown",
   "metadata": {},
   "source": [
    "#### Table 8. Preference score table for optimization\n",
    "\n",
    "In our test data, there are only 13 slots and 8 courses (12 sessions in total) in this dataset. In order to do optimization, we need to create a preference score table for each course and slot, based on the pref_df table and slots table. Simply speaking, we can access the day_time of a slot, and get the associated preference score from the pref_df table. Pref2_df is the result table.\n"
   ]
  },
  {
   "cell_type": "code",
   "execution_count": 12,
   "metadata": {
    "collapsed": true
   },
   "outputs": [],
   "source": [
    "pref2=[]\n",
    "for ix1, row1 in pref_df.iterrows():\n",
    "    scores=[]\n",
    "    for ix2, row2 in slots.iterrows():\n",
    "        score=row1.loc[row2.loc['day_time']]\n",
    "        scores.append(score)\n",
    "    pref2.append(scores)"
   ]
  },
  {
   "cell_type": "code",
   "execution_count": 13,
   "metadata": {},
   "outputs": [
    {
     "data": {
      "text/html": [
       "<div>\n",
       "<style scoped>\n",
       "    .dataframe tbody tr th:only-of-type {\n",
       "        vertical-align: middle;\n",
       "    }\n",
       "\n",
       "    .dataframe tbody tr th {\n",
       "        vertical-align: top;\n",
       "    }\n",
       "\n",
       "    .dataframe thead th {\n",
       "        text-align: right;\n",
       "    }\n",
       "</style>\n",
       "<table border=\"1\" class=\"dataframe\">\n",
       "  <thead>\n",
       "    <tr style=\"text-align: right;\">\n",
       "      <th>Slot</th>\n",
       "      <th>1</th>\n",
       "      <th>2</th>\n",
       "      <th>3</th>\n",
       "      <th>4</th>\n",
       "      <th>5</th>\n",
       "      <th>6</th>\n",
       "      <th>7</th>\n",
       "      <th>8</th>\n",
       "      <th>9</th>\n",
       "      <th>10</th>\n",
       "      <th>11</th>\n",
       "      <th>12</th>\n",
       "      <th>13</th>\n",
       "    </tr>\n",
       "    <tr>\n",
       "      <th>Course</th>\n",
       "      <th></th>\n",
       "      <th></th>\n",
       "      <th></th>\n",
       "      <th></th>\n",
       "      <th></th>\n",
       "      <th></th>\n",
       "      <th></th>\n",
       "      <th></th>\n",
       "      <th></th>\n",
       "      <th></th>\n",
       "      <th></th>\n",
       "      <th></th>\n",
       "      <th></th>\n",
       "    </tr>\n",
       "  </thead>\n",
       "  <tbody>\n",
       "    <tr>\n",
       "      <th>16219</th>\n",
       "      <td>2</td>\n",
       "      <td>4</td>\n",
       "      <td>1</td>\n",
       "      <td>2</td>\n",
       "      <td>4</td>\n",
       "      <td>2</td>\n",
       "      <td>2</td>\n",
       "      <td>4</td>\n",
       "      <td>2</td>\n",
       "      <td>2</td>\n",
       "      <td>2</td>\n",
       "      <td>2</td>\n",
       "      <td>2</td>\n",
       "    </tr>\n",
       "    <tr>\n",
       "      <th>16215</th>\n",
       "      <td>2</td>\n",
       "      <td>4</td>\n",
       "      <td>1</td>\n",
       "      <td>2</td>\n",
       "      <td>4</td>\n",
       "      <td>2</td>\n",
       "      <td>2</td>\n",
       "      <td>4</td>\n",
       "      <td>2</td>\n",
       "      <td>2</td>\n",
       "      <td>2</td>\n",
       "      <td>2</td>\n",
       "      <td>2</td>\n",
       "    </tr>\n",
       "    <tr>\n",
       "      <th>16225</th>\n",
       "      <td>0</td>\n",
       "      <td>2</td>\n",
       "      <td>2</td>\n",
       "      <td>0</td>\n",
       "      <td>2</td>\n",
       "      <td>1</td>\n",
       "      <td>4</td>\n",
       "      <td>2</td>\n",
       "      <td>4</td>\n",
       "      <td>4</td>\n",
       "      <td>4</td>\n",
       "      <td>4</td>\n",
       "      <td>1</td>\n",
       "    </tr>\n",
       "    <tr>\n",
       "      <th>16280</th>\n",
       "      <td>0</td>\n",
       "      <td>2</td>\n",
       "      <td>4</td>\n",
       "      <td>0</td>\n",
       "      <td>2</td>\n",
       "      <td>2</td>\n",
       "      <td>2</td>\n",
       "      <td>1</td>\n",
       "      <td>2</td>\n",
       "      <td>2</td>\n",
       "      <td>2</td>\n",
       "      <td>4</td>\n",
       "      <td>2</td>\n",
       "    </tr>\n",
       "    <tr>\n",
       "      <th>16288</th>\n",
       "      <td>1</td>\n",
       "      <td>1</td>\n",
       "      <td>2</td>\n",
       "      <td>1</td>\n",
       "      <td>1</td>\n",
       "      <td>1</td>\n",
       "      <td>4</td>\n",
       "      <td>2</td>\n",
       "      <td>4</td>\n",
       "      <td>4</td>\n",
       "      <td>4</td>\n",
       "      <td>2</td>\n",
       "      <td>1</td>\n",
       "    </tr>\n",
       "  </tbody>\n",
       "</table>\n",
       "</div>"
      ],
      "text/plain": [
       "Slot    1   2   3   4   5   6   7   8   9   10  11  12  13\n",
       "Course                                                    \n",
       "16219    2   4   1   2   4   2   2   4   2   2   2   2   2\n",
       "16215    2   4   1   2   4   2   2   4   2   2   2   2   2\n",
       "16225    0   2   2   0   2   1   4   2   4   4   4   4   1\n",
       "16280    0   2   4   0   2   2   2   1   2   2   2   4   2\n",
       "16288    1   1   2   1   1   1   4   2   4   4   4   2   1"
      ]
     },
     "execution_count": 13,
     "metadata": {},
     "output_type": "execute_result"
    }
   ],
   "source": [
    "pref2_df=pd.DataFrame(pref2, index=pref_df.index, columns=slots.index)    \n",
    "pref2_df.head()"
   ]
  },
  {
   "cell_type": "markdown",
   "metadata": {},
   "source": [
    "## Optimization"
   ]
  },
  {
   "cell_type": "code",
   "execution_count": 14,
   "metadata": {
    "collapsed": true
   },
   "outputs": [],
   "source": [
    "courses_ix=course.index\n",
    "slots_ix=slots.index"
   ]
  },
  {
   "cell_type": "code",
   "execution_count": 15,
   "metadata": {
    "collapsed": true
   },
   "outputs": [],
   "source": [
    "import gurobipy as grb\n",
    "mod=grb.Model()"
   ]
  },
  {
   "cell_type": "code",
   "execution_count": 16,
   "metadata": {
    "collapsed": true
   },
   "outputs": [],
   "source": [
    "###define the variables, x[i,j] denotes whether assign course i with slot j\n",
    "x={}\n",
    "for i in courses_ix:\n",
    "    for j in slots_ix:\n",
    "        x[i,j]=mod.addVar(vtype=grb.GRB.BINARY, name=\"x[{0},{1}]\".format(i, j))"
   ]
  },
  {
   "cell_type": "code",
   "execution_count": 17,
   "metadata": {
    "collapsed": true
   },
   "outputs": [],
   "source": [
    "### objective function\n",
    "mod.setObjective(sum(x[i,j]*pref2_df.loc[i,j]\n",
    "                     -x[i,j]*(slots.loc[j, \"Duration\"]-course.loc[i, \"Duration\"]/10) \n",
    "                     -x[i,j]*(slots.loc[j, \"Capacity\"]-course.loc[i, \"Num_students\"]/20) \n",
    "                     for i in courses_ix for j in slots_ix), sense=grb.GRB.MAXIMIZE)"
   ]
  },
  {
   "cell_type": "code",
   "execution_count": 18,
   "metadata": {
    "collapsed": true
   },
   "outputs": [],
   "source": [
    "### the number of slots assigned to a course should be the same as the number of times students meet\n",
    "parts_constr={}\n",
    "for i in courses_ix:\n",
    "    parts_constr[i]=mod.addConstr(sum(x[i,j] for j in slots_ix)==course.loc[i,\"Parts\"])"
   ]
  },
  {
   "cell_type": "code",
   "execution_count": 19,
   "metadata": {
    "collapsed": true
   },
   "outputs": [],
   "source": [
    "##each slot can only be assigned to 1 course\n",
    "slots_constr={}\n",
    "for j in slots_ix:\n",
    "    slots_constr[j]=mod.addConstr(sum(x[i,j] for i in courses_ix)<=1)"
   ]
  },
  {
   "cell_type": "code",
   "execution_count": 20,
   "metadata": {
    "collapsed": true
   },
   "outputs": [],
   "source": [
    "###XXX the duration of a course can not be greater than the duration of the slot\n",
    "duration_constr={}\n",
    "for i in courses_ix:\n",
    "    for j in slots_ix:\n",
    "        duration_constr[i]=mod.addConstr(slots.loc[j, \"Duration\"]-x[i,j]*course.loc[i, \"Duration\"]>=0)"
   ]
  },
  {
   "cell_type": "code",
   "execution_count": 21,
   "metadata": {
    "collapsed": true
   },
   "outputs": [],
   "source": [
    "## the number of students can not exceed the room capacity\n",
    "students_constr={}\n",
    "for i in courses_ix:\n",
    "    for j in slots_ix:\n",
    "        students_constr[i]=mod.addConstr(slots.loc[j, \"Capacity\"]-x[i,j]*course.loc[i, \"Num_students\"]>=0)"
   ]
  },
  {
   "cell_type": "code",
   "execution_count": 22,
   "metadata": {
    "collapsed": true
   },
   "outputs": [],
   "source": [
    "### if preference score=0, xij=0\n",
    "pref_constr={}\n",
    "for i in courses_ix:\n",
    "    for j in slots_ix:\n",
    "        if pref2_df.loc[i,j]==0:\n",
    "            pref_constr[i,j]=mod.addConstr(x[i,j]==0)"
   ]
  },
  {
   "cell_type": "code",
   "execution_count": 23,
   "metadata": {},
   "outputs": [
    {
     "name": "stdout",
     "output_type": "stream",
     "text": [
      "Optimize a model with 237 rows, 104 columns and 424 nonzeros\n",
      "Variable types: 0 continuous, 104 integer (104 binary)\n",
      "Coefficient statistics:\n",
      "  Matrix range     [1e+00, 2e+02]\n",
      "  Objective range  [9e+01, 2e+02]\n",
      "  Bounds range     [1e+00, 1e+00]\n",
      "  RHS range        [1e+00, 2e+02]\n",
      "Found heuristic solution: objective -1850.000000\n",
      "Presolve removed 221 rows and 55 columns\n",
      "Presolve time: 0.00s\n",
      "Presolved: 16 rows, 49 columns, 98 nonzeros\n",
      "Variable types: 0 continuous, 49 integer (49 binary)\n",
      "\n",
      "Root relaxation: objective -1.843000e+03, 18 iterations, 0.00 seconds\n",
      "\n",
      "    Nodes    |    Current Node    |     Objective Bounds      |     Work\n",
      " Expl Unexpl |  Obj  Depth IntInf | Incumbent    BestBd   Gap | It/Node Time\n",
      "\n",
      "*    0     0               0    -1843.000000 -1843.0000  0.00%     -    0s\n",
      "\n",
      "Explored 0 nodes (18 simplex iterations) in 0.03 seconds\n",
      "Thread count was 8 (of 8 available processors)\n",
      "\n",
      "Solution count 2: -1843 -1850 \n",
      "\n",
      "Optimal solution found (tolerance 1.00e-04)\n",
      "Best objective -1.843000000000e+03, best bound -1.843000000000e+03, gap 0.0000%\n"
     ]
    }
   ],
   "source": [
    "mod.optimize()"
   ]
  },
  {
   "cell_type": "markdown",
   "metadata": {},
   "source": [
    "### Compute metrics"
   ]
  },
  {
   "cell_type": "markdown",
   "metadata": {},
   "source": [
    "### 1. Compute current satisfaction score"
   ]
  },
  {
   "cell_type": "markdown",
   "metadata": {},
   "source": [
    "* Step 1. Produce the output table---scheduleing result"
   ]
  },
  {
   "cell_type": "code",
   "execution_count": 24,
   "metadata": {
    "collapsed": true
   },
   "outputs": [],
   "source": [
    "###Create an allocation table to show the allocation results\n",
    "table=[]\n",
    "for i in courses_ix:\n",
    "    s=[]\n",
    "    for j in slots_ix:  \n",
    "        if(x[i,j].x==1):\n",
    "            s.append(1)\n",
    "        else: s.append(0)\n",
    "    table.append(s)"
   ]
  },
  {
   "cell_type": "code",
   "execution_count": 25,
   "metadata": {},
   "outputs": [
    {
     "data": {
      "text/html": [
       "<div>\n",
       "<style scoped>\n",
       "    .dataframe tbody tr th:only-of-type {\n",
       "        vertical-align: middle;\n",
       "    }\n",
       "\n",
       "    .dataframe tbody tr th {\n",
       "        vertical-align: top;\n",
       "    }\n",
       "\n",
       "    .dataframe thead th {\n",
       "        text-align: right;\n",
       "    }\n",
       "</style>\n",
       "<table border=\"1\" class=\"dataframe\">\n",
       "  <thead>\n",
       "    <tr style=\"text-align: right;\">\n",
       "      <th>Slot</th>\n",
       "      <th>1</th>\n",
       "      <th>2</th>\n",
       "      <th>3</th>\n",
       "      <th>4</th>\n",
       "      <th>5</th>\n",
       "      <th>6</th>\n",
       "      <th>7</th>\n",
       "      <th>8</th>\n",
       "      <th>9</th>\n",
       "      <th>10</th>\n",
       "      <th>11</th>\n",
       "      <th>12</th>\n",
       "      <th>13</th>\n",
       "    </tr>\n",
       "    <tr>\n",
       "      <th>Course</th>\n",
       "      <th></th>\n",
       "      <th></th>\n",
       "      <th></th>\n",
       "      <th></th>\n",
       "      <th></th>\n",
       "      <th></th>\n",
       "      <th></th>\n",
       "      <th></th>\n",
       "      <th></th>\n",
       "      <th></th>\n",
       "      <th></th>\n",
       "      <th></th>\n",
       "      <th></th>\n",
       "    </tr>\n",
       "  </thead>\n",
       "  <tbody>\n",
       "    <tr>\n",
       "      <th>16219</th>\n",
       "      <td>0</td>\n",
       "      <td>1</td>\n",
       "      <td>0</td>\n",
       "      <td>0</td>\n",
       "      <td>0</td>\n",
       "      <td>0</td>\n",
       "      <td>0</td>\n",
       "      <td>0</td>\n",
       "      <td>0</td>\n",
       "      <td>0</td>\n",
       "      <td>0</td>\n",
       "      <td>0</td>\n",
       "      <td>0</td>\n",
       "    </tr>\n",
       "    <tr>\n",
       "      <th>16215</th>\n",
       "      <td>0</td>\n",
       "      <td>0</td>\n",
       "      <td>0</td>\n",
       "      <td>0</td>\n",
       "      <td>1</td>\n",
       "      <td>0</td>\n",
       "      <td>0</td>\n",
       "      <td>0</td>\n",
       "      <td>0</td>\n",
       "      <td>0</td>\n",
       "      <td>0</td>\n",
       "      <td>0</td>\n",
       "      <td>0</td>\n",
       "    </tr>\n",
       "    <tr>\n",
       "      <th>16225</th>\n",
       "      <td>0</td>\n",
       "      <td>0</td>\n",
       "      <td>0</td>\n",
       "      <td>0</td>\n",
       "      <td>0</td>\n",
       "      <td>0</td>\n",
       "      <td>0</td>\n",
       "      <td>1</td>\n",
       "      <td>0</td>\n",
       "      <td>1</td>\n",
       "      <td>0</td>\n",
       "      <td>0</td>\n",
       "      <td>0</td>\n",
       "    </tr>\n",
       "    <tr>\n",
       "      <th>16280</th>\n",
       "      <td>0</td>\n",
       "      <td>0</td>\n",
       "      <td>1</td>\n",
       "      <td>0</td>\n",
       "      <td>0</td>\n",
       "      <td>0</td>\n",
       "      <td>0</td>\n",
       "      <td>0</td>\n",
       "      <td>0</td>\n",
       "      <td>0</td>\n",
       "      <td>0</td>\n",
       "      <td>1</td>\n",
       "      <td>0</td>\n",
       "    </tr>\n",
       "    <tr>\n",
       "      <th>16288</th>\n",
       "      <td>0</td>\n",
       "      <td>0</td>\n",
       "      <td>0</td>\n",
       "      <td>0</td>\n",
       "      <td>0</td>\n",
       "      <td>0</td>\n",
       "      <td>0</td>\n",
       "      <td>0</td>\n",
       "      <td>1</td>\n",
       "      <td>0</td>\n",
       "      <td>0</td>\n",
       "      <td>0</td>\n",
       "      <td>0</td>\n",
       "    </tr>\n",
       "  </tbody>\n",
       "</table>\n",
       "</div>"
      ],
      "text/plain": [
       "Slot    1   2   3   4   5   6   7   8   9   10  11  12  13\n",
       "Course                                                    \n",
       "16219    0   1   0   0   0   0   0   0   0   0   0   0   0\n",
       "16215    0   0   0   0   1   0   0   0   0   0   0   0   0\n",
       "16225    0   0   0   0   0   0   0   1   0   1   0   0   0\n",
       "16280    0   0   1   0   0   0   0   0   0   0   0   1   0\n",
       "16288    0   0   0   0   0   0   0   0   1   0   0   0   0"
      ]
     },
     "execution_count": 25,
     "metadata": {},
     "output_type": "execute_result"
    }
   ],
   "source": [
    "allocation=pd.DataFrame(table, index=courses_ix, columns=slots_ix)\n",
    "allocation.head()"
   ]
  },
  {
   "cell_type": "markdown",
   "metadata": {},
   "source": [
    "* Step 2: Compute the satisfaction score towards each scheduling decision.\n",
    "Based on the pref2_df table, we can see the highest possible score a faculty towords an allocation is 4. After optimization, we obtained the allocation result, see the above allocation table. The following code compute the actual score faculty have towards each course scheduling result. If a course has two parts, say one receives 2 and one receives 4, then the preference score should be averaged, i.e., 3. The following two blocks of code compute the average satisfaction score."
   ]
  },
  {
   "cell_type": "code",
   "execution_count": 26,
   "metadata": {},
   "outputs": [
    {
     "data": {
      "text/plain": [
       "[[0, 4, 0, 0, 0, 0, 0, 0, 0, 0, 0, 0, 0],\n",
       " [0, 0, 0, 0, 4, 0, 0, 0, 0, 0, 0, 0, 0],\n",
       " [0, 0, 0, 0, 0, 0, 0, 2, 0, 4, 0, 0, 0],\n",
       " [0, 0, 4, 0, 0, 0, 0, 0, 0, 0, 0, 4, 0],\n",
       " [0, 0, 0, 0, 0, 0, 0, 0, 4, 0, 0, 0, 0],\n",
       " [0, 0, 0, 0, 0, 4, 0, 0, 0, 0, 2, 0, 0],\n",
       " [1, 0, 0, 2, 0, 0, 0, 0, 0, 0, 0, 0, 0],\n",
       " [0, 0, 0, 0, 0, 0, 0, 0, 0, 0, 0, 0, 2]]"
      ]
     },
     "execution_count": 26,
     "metadata": {},
     "output_type": "execute_result"
    }
   ],
   "source": [
    "pref_scores=[]\n",
    "for i in courses_ix:\n",
    "    s=[]\n",
    "    for j in slots_ix:\n",
    "        s.append(allocation.loc[i,j]*pref2_df.loc[i,j])\n",
    "    pref_scores.append(s)\n",
    "pref_scores\n"
   ]
  },
  {
   "cell_type": "markdown",
   "metadata": {},
   "source": [
    "* Step 3. Compute the average satisfaction score as the metric"
   ]
  },
  {
   "cell_type": "code",
   "execution_count": 27,
   "metadata": {},
   "outputs": [
    {
     "data": {
      "text/plain": [
       "3.1875"
      ]
     },
     "execution_count": 27,
     "metadata": {},
     "output_type": "execute_result"
    }
   ],
   "source": [
    "###compute average satisfaction score\n",
    "course_scores=[]\n",
    "for ss in pref_scores:\n",
    "    i=0\n",
    "    for s in ss:\n",
    "        if s>0: i+=1\n",
    "    course_scores.append(sum(ss)/i)\n",
    "sum(course_scores)/len(course_scores)"
   ]
  },
  {
   "cell_type": "markdown",
   "metadata": {},
   "source": [
    "* Based on the above computation, we find the average preference score faculty towards course scheduling is 3 out of 4. Qualitatively, it is a relatively good result."
   ]
  },
  {
   "cell_type": "markdown",
   "metadata": {},
   "source": [
    "#### Compute time waste\n",
    "* The following code compute on average time waste per course. On average, each course wasted 16 min of room usage. Because we only created 1 1.5 hour slot, that means some 80 min courses are assigned with 2 hour slots. In the actual optimation problem, we can create more 1.5 hour slots based on estimated number of 80 min courses, so less time will be wasted."
   ]
  },
  {
   "cell_type": "code",
   "execution_count": 28,
   "metadata": {
    "scrolled": true
   },
   "outputs": [
    {
     "data": {
      "text/plain": [
       "[[0.0, 0.0, 0.0, 0.0, 0.0, 0.0, -0.0, 0.0, 0.0, 0.0, 0.0, 0.0, 0.0],\n",
       " [0.0, 0.0, 0.0, 0.0, 0.0, 0.0, -0.0, 0.0, 0.0, 0.0, 0.0, 0.0, 0.0],\n",
       " [0.0, 0.0, 0.0, 0.0, 0.0, 0.0, -0.0, 0.0, 0.0, 0.0, 0.0, 0.0, 0.0],\n",
       " [0.0, 0.0, 30.0, 0.0, 0.0, 0.0, 0.0, 0.0, 0.0, 0.0, 0.0, 30.0, 0.0],\n",
       " [-0.0, -0.0, -0.0, -0.0, -0.0, -0.0, -0.0, -0.0, 0.0, -0.0, -0.0, -0.0, 0.0],\n",
       " [0.0, 0.0, 0.0, 0.0, 0.0, 30.0, 0.0, 0.0, 0.0, 0.0, 30.0, 0.0, 0.0],\n",
       " [0.0, 0.0, 0.0, 0.0, 0.0, 0.0, -0.0, 0.0, 0.0, 0.0, 0.0, 0.0, 0.0],\n",
       " [-0.0, -0.0, -0.0, -0.0, -0.0, -0.0, -0.0, -0.0, 0.0, -0.0, -0.0, -0.0, 10.0]]"
      ]
     },
     "execution_count": 28,
     "metadata": {},
     "output_type": "execute_result"
    }
   ],
   "source": [
    "dur=[]\n",
    "for i in courses_ix:\n",
    "    s=[]\n",
    "    for j in slots_ix:\n",
    "        s.append(allocation.loc[i,j]*(slots.loc[j, \"Duration\"]-course.loc[i, \"Duration\"]))          \n",
    "    dur.append(s)\n",
    "dur"
   ]
  },
  {
   "cell_type": "code",
   "execution_count": 29,
   "metadata": {},
   "outputs": [
    {
     "data": {
      "text/plain": [
       "16.25"
      ]
     },
     "execution_count": 29,
     "metadata": {},
     "output_type": "execute_result"
    }
   ],
   "source": [
    "time_waste=[]\n",
    "for tw in dur:\n",
    "    time_waste.append(sum(tw))\n",
    "sum(time_waste)/len(time_waste)"
   ]
  },
  {
   "cell_type": "markdown",
   "metadata": {},
   "source": [
    "#### Compute seat waste\n",
    "* The following code compute on average seat waste per course. On average, each course wasted 13 seats in this example. This is probably due to two rooms have 76 seats but the expected number of students for courses are under 50. When we apply this optimization model on a whole dataset in the future, we expecte the seat waste will be much smaller. The following code can be ued to compute the seat waste metric."
   ]
  },
  {
   "cell_type": "code",
   "execution_count": 30,
   "metadata": {},
   "outputs": [
    {
     "data": {
      "text/plain": [
       "[[0, 1, 0, 0, 0, 0, 0, 0, 0, 0, 0, 0, 0],\n",
       " [0, 0, 0, 0, 1, 0, 0, 0, 0, 0, 0, 0, 0],\n",
       " [0, 0, 0, 0, 0, 0, 0, 13, 0, 13, 0, 0, 0],\n",
       " [0, 0, 3, 0, 0, 0, 0, 0, 0, 0, 0, 28, 0],\n",
       " [0, 0, 0, 0, 0, 0, 0, 0, 3, 0, 0, 0, 0],\n",
       " [0, 0, 0, 0, 0, 3, 0, 0, 0, 0, 28, 0, 0],\n",
       " [1, 0, 0, 1, 0, 0, 0, 0, 0, 0, 0, 0, 0],\n",
       " [0, 0, 0, 0, 0, 0, 0, 0, 0, 0, 0, 0, 11]]"
      ]
     },
     "execution_count": 30,
     "metadata": {},
     "output_type": "execute_result"
    }
   ],
   "source": [
    "cap=[]\n",
    "for i in courses_ix:\n",
    "    s=[]\n",
    "    for j in slots_ix:\n",
    "        s.append(allocation.loc[i,j]*(slots.loc[j, \"Capacity\"]-course.loc[i, \"Num_students\"]))          \n",
    "    cap.append(s)\n",
    "cap"
   ]
  },
  {
   "cell_type": "code",
   "execution_count": 31,
   "metadata": {},
   "outputs": [
    {
     "data": {
      "text/plain": [
       "13.25"
      ]
     },
     "execution_count": 31,
     "metadata": {},
     "output_type": "execute_result"
    }
   ],
   "source": [
    "seat_waste=[]\n",
    "for sw in cap:\n",
    "    seat_waste.append(sum(sw))\n",
    "sum(seat_waste)/len(seat_waste)"
   ]
  },
  {
   "cell_type": "markdown",
   "metadata": {},
   "source": [
    "### Save the allocation result\n",
    "\n",
    "* The following code create the allocation result table joined the slot information table, so we can view which room, day and time is assigned to each course."
   ]
  },
  {
   "cell_type": "code",
   "execution_count": 32,
   "metadata": {
    "collapsed": true
   },
   "outputs": [],
   "source": [
    "table2=[]\n",
    "for j in slots_ix:\n",
    "    s=[]\n",
    "    for i in courses_ix:\n",
    "        if(x[i,j].x==1):\n",
    "            s.append(1)\n",
    "        else: s.append(\"\")\n",
    "    table2.append(s)\n",
    "        "
   ]
  },
  {
   "cell_type": "code",
   "execution_count": 33,
   "metadata": {
    "collapsed": true
   },
   "outputs": [],
   "source": [
    "allocation2=pd.DataFrame(table2, index=slots_ix, columns=courses_ix)"
   ]
  },
  {
   "cell_type": "code",
   "execution_count": 34,
   "metadata": {
    "collapsed": true
   },
   "outputs": [],
   "source": [
    "slots2=slots.join(allocation2)"
   ]
  },
  {
   "cell_type": "code",
   "execution_count": 35,
   "metadata": {},
   "outputs": [
    {
     "data": {
      "text/html": [
       "<div>\n",
       "<style scoped>\n",
       "    .dataframe tbody tr th:only-of-type {\n",
       "        vertical-align: middle;\n",
       "    }\n",
       "\n",
       "    .dataframe tbody tr th {\n",
       "        vertical-align: top;\n",
       "    }\n",
       "\n",
       "    .dataframe thead th {\n",
       "        text-align: right;\n",
       "    }\n",
       "</style>\n",
       "<table border=\"1\" class=\"dataframe\">\n",
       "  <thead>\n",
       "    <tr style=\"text-align: right;\">\n",
       "      <th></th>\n",
       "      <th>Room</th>\n",
       "      <th>Capacity</th>\n",
       "      <th>Day</th>\n",
       "      <th>Time</th>\n",
       "      <th>Begin</th>\n",
       "      <th>End</th>\n",
       "      <th>day_time</th>\n",
       "      <th>Duration</th>\n",
       "      <th>16219</th>\n",
       "      <th>16215</th>\n",
       "      <th>16225</th>\n",
       "      <th>16280</th>\n",
       "      <th>16288</th>\n",
       "      <th>16530</th>\n",
       "      <th>16278</th>\n",
       "      <th>16271</th>\n",
       "    </tr>\n",
       "    <tr>\n",
       "      <th>Slot</th>\n",
       "      <th></th>\n",
       "      <th></th>\n",
       "      <th></th>\n",
       "      <th></th>\n",
       "      <th></th>\n",
       "      <th></th>\n",
       "      <th></th>\n",
       "      <th></th>\n",
       "      <th></th>\n",
       "      <th></th>\n",
       "      <th></th>\n",
       "      <th></th>\n",
       "      <th></th>\n",
       "      <th></th>\n",
       "      <th></th>\n",
       "      <th></th>\n",
       "    </tr>\n",
       "  </thead>\n",
       "  <tbody>\n",
       "    <tr>\n",
       "      <th>1</th>\n",
       "      <td>ACC205</td>\n",
       "      <td>36</td>\n",
       "      <td>M</td>\n",
       "      <td>Early_Morning</td>\n",
       "      <td>08:00:00</td>\n",
       "      <td>09:50:00</td>\n",
       "      <td>M_Early_Morning</td>\n",
       "      <td>110.0</td>\n",
       "      <td></td>\n",
       "      <td></td>\n",
       "      <td></td>\n",
       "      <td></td>\n",
       "      <td></td>\n",
       "      <td></td>\n",
       "      <td>1</td>\n",
       "      <td></td>\n",
       "    </tr>\n",
       "    <tr>\n",
       "      <th>2</th>\n",
       "      <td>ACC205</td>\n",
       "      <td>36</td>\n",
       "      <td>M</td>\n",
       "      <td>Morning</td>\n",
       "      <td>10:00:00</td>\n",
       "      <td>11:50:00</td>\n",
       "      <td>M_Morning</td>\n",
       "      <td>110.0</td>\n",
       "      <td>1</td>\n",
       "      <td></td>\n",
       "      <td></td>\n",
       "      <td></td>\n",
       "      <td></td>\n",
       "      <td></td>\n",
       "      <td></td>\n",
       "      <td></td>\n",
       "    </tr>\n",
       "    <tr>\n",
       "      <th>3</th>\n",
       "      <td>JFF 240</td>\n",
       "      <td>48</td>\n",
       "      <td>T</td>\n",
       "      <td>Evening</td>\n",
       "      <td>18:00:00</td>\n",
       "      <td>19:50:00</td>\n",
       "      <td>T_Evening</td>\n",
       "      <td>110.0</td>\n",
       "      <td></td>\n",
       "      <td></td>\n",
       "      <td></td>\n",
       "      <td>1</td>\n",
       "      <td></td>\n",
       "      <td></td>\n",
       "      <td></td>\n",
       "      <td></td>\n",
       "    </tr>\n",
       "    <tr>\n",
       "      <th>4</th>\n",
       "      <td>ACC205</td>\n",
       "      <td>36</td>\n",
       "      <td>W</td>\n",
       "      <td>Early_Morning</td>\n",
       "      <td>08:00:00</td>\n",
       "      <td>09:50:00</td>\n",
       "      <td>W_Early_Morning</td>\n",
       "      <td>110.0</td>\n",
       "      <td></td>\n",
       "      <td></td>\n",
       "      <td></td>\n",
       "      <td></td>\n",
       "      <td></td>\n",
       "      <td></td>\n",
       "      <td>1</td>\n",
       "      <td></td>\n",
       "    </tr>\n",
       "    <tr>\n",
       "      <th>5</th>\n",
       "      <td>ACC205</td>\n",
       "      <td>36</td>\n",
       "      <td>M</td>\n",
       "      <td>Morning</td>\n",
       "      <td>10:00:00</td>\n",
       "      <td>11:50:00</td>\n",
       "      <td>M_Morning</td>\n",
       "      <td>110.0</td>\n",
       "      <td></td>\n",
       "      <td>1</td>\n",
       "      <td></td>\n",
       "      <td></td>\n",
       "      <td></td>\n",
       "      <td></td>\n",
       "      <td></td>\n",
       "      <td></td>\n",
       "    </tr>\n",
       "  </tbody>\n",
       "</table>\n",
       "</div>"
      ],
      "text/plain": [
       "         Room  Capacity Day           Time     Begin       End  \\\n",
       "Slot                                                             \n",
       "1      ACC205        36   M  Early_Morning  08:00:00  09:50:00   \n",
       "2      ACC205        36   M        Morning  10:00:00  11:50:00   \n",
       "3     JFF 240        48   T        Evening  18:00:00  19:50:00   \n",
       "4      ACC205        36   W  Early_Morning  08:00:00  09:50:00   \n",
       "5      ACC205        36   M        Morning  10:00:00  11:50:00   \n",
       "\n",
       "             day_time  Duration 16219 16215 16225 16280 16288 16530 16278  \\\n",
       "Slot                                                                        \n",
       "1     M_Early_Morning     110.0                                         1   \n",
       "2           M_Morning     110.0     1                                       \n",
       "3           T_Evening     110.0                       1                     \n",
       "4     W_Early_Morning     110.0                                         1   \n",
       "5           M_Morning     110.0           1                                 \n",
       "\n",
       "     16271  \n",
       "Slot        \n",
       "1           \n",
       "2           \n",
       "3           \n",
       "4           \n",
       "5           "
      ]
     },
     "execution_count": 35,
     "metadata": {},
     "output_type": "execute_result"
    }
   ],
   "source": [
    "slots2.head()"
   ]
  },
  {
   "cell_type": "code",
   "execution_count": 37,
   "metadata": {},
   "outputs": [],
   "source": [
    "slots2.to_excel(\"allocation_result.xlsx\")"
   ]
  },
  {
   "cell_type": "code",
   "execution_count": null,
   "metadata": {
    "collapsed": true
   },
   "outputs": [],
   "source": []
  },
  {
   "cell_type": "code",
   "execution_count": null,
   "metadata": {
    "collapsed": true
   },
   "outputs": [],
   "source": []
  }
 ],
 "metadata": {
  "kernelspec": {
   "display_name": "Python 3",
   "language": "python",
   "name": "python3"
  },
  "language_info": {
   "codemirror_mode": {
    "name": "ipython",
    "version": 3
   },
   "file_extension": ".py",
   "mimetype": "text/x-python",
   "name": "python",
   "nbconvert_exporter": "python",
   "pygments_lexer": "ipython3",
   "version": "3.6.3"
  }
 },
 "nbformat": 4,
 "nbformat_minor": 2
}
